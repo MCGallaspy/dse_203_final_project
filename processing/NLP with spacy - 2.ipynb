{
 "cells": [
  {
   "cell_type": "code",
   "execution_count": 1,
   "metadata": {},
   "outputs": [
    {
     "name": "stdout",
     "output_type": "stream",
     "text": [
      "<class 'spacy.lang.en.English'>\n"
     ]
    }
   ],
   "source": [
    "import spacy\n",
    "import en_core_web_lg\n",
    "from spacy import displacy\n",
    "import collections\n",
    "import pandas as pd\n",
    "\n",
    "nlp = en_core_web_lg.load()\n",
    "print(type(nlp))"
   ]
  },
  {
   "cell_type": "code",
   "execution_count": 2,
   "metadata": {},
   "outputs": [],
   "source": [
    "import json\n",
    "\n",
    "with open('../scraping/mike/output2.json', 'r') as f:\n",
    "    docs = json.loads(f.read())"
   ]
  },
  {
   "cell_type": "code",
   "execution_count": 3,
   "metadata": {},
   "outputs": [],
   "source": [
    "from bs4 import BeautifulSoup\n",
    "from bs4.element import Comment\n",
    "\n",
    "def tag_visible(element):\n",
    "    if element.parent.name in ['style', 'script', 'head', 'title', 'meta', '[document]']:\n",
    "        return False\n",
    "    if isinstance(element, Comment):\n",
    "        return False\n",
    "    return True\n",
    "\n",
    "def text_from_html(body):\n",
    "    soup = BeautifulSoup(body, 'html.parser')\n",
    "    texts = soup.find(id='bodyContent').findAll(text=True)\n",
    "    visible_texts = filter(tag_visible, texts)  \n",
    "    return u\" \".join(t.replace('\\xa0', ' ').strip() for t in visible_texts)"
   ]
  },
  {
   "cell_type": "code",
   "execution_count": 4,
   "metadata": {},
   "outputs": [
    {
     "name": "stdout",
     "output_type": "stream",
     "text": [
      "Wall time: 6h 34min 6s\n"
     ]
    }
   ],
   "source": [
    "%%time\n",
    "entities = collections.Counter()\n",
    "for doc in nlp.pipe([text_from_html(doc['html']) for doc in docs],\n",
    "                     batch_size=50*3):\n",
    "    entities.update([(ent.text, ent.label_) for ent in doc.ents])"
   ]
  },
  {
   "cell_type": "code",
   "execution_count": 5,
   "metadata": {},
   "outputs": [
    {
     "data": {
      "text/plain": [
       "190056"
      ]
     },
     "execution_count": 5,
     "metadata": {},
     "output_type": "execute_result"
    }
   ],
   "source": [
    "len(entities)"
   ]
  },
  {
   "cell_type": "code",
   "execution_count": 6,
   "metadata": {},
   "outputs": [
    {
     "data": {
      "text/html": [
       "<div>\n",
       "<style scoped>\n",
       "    .dataframe tbody tr th:only-of-type {\n",
       "        vertical-align: middle;\n",
       "    }\n",
       "\n",
       "    .dataframe tbody tr th {\n",
       "        vertical-align: top;\n",
       "    }\n",
       "\n",
       "    .dataframe thead th {\n",
       "        text-align: right;\n",
       "    }\n",
       "</style>\n",
       "<table border=\"1\" class=\"dataframe\">\n",
       "  <thead>\n",
       "    <tr style=\"text-align: right;\">\n",
       "      <th></th>\n",
       "      <th>term</th>\n",
       "      <th>label</th>\n",
       "      <th>count</th>\n",
       "    </tr>\n",
       "  </thead>\n",
       "  <tbody>\n",
       "    <tr>\n",
       "      <th>0</th>\n",
       "      <td>LinkedIn Corporation Initial</td>\n",
       "      <td>ORG</td>\n",
       "      <td>3</td>\n",
       "    </tr>\n",
       "    <tr>\n",
       "      <th>1</th>\n",
       "      <td>May 2010</td>\n",
       "      <td>DATE</td>\n",
       "      <td>104</td>\n",
       "    </tr>\n",
       "    <tr>\n",
       "      <th>2</th>\n",
       "      <td>9 years ago</td>\n",
       "      <td>DATE</td>\n",
       "      <td>13</td>\n",
       "    </tr>\n",
       "    <tr>\n",
       "      <th>3</th>\n",
       "      <td>2010-05</td>\n",
       "      <td>DATE</td>\n",
       "      <td>3</td>\n",
       "    </tr>\n",
       "    <tr>\n",
       "      <th>4</th>\n",
       "      <td>Platform Web Browser</td>\n",
       "      <td>ORG</td>\n",
       "      <td>3</td>\n",
       "    </tr>\n",
       "  </tbody>\n",
       "</table>\n",
       "</div>"
      ],
      "text/plain": [
       "                           term label  count\n",
       "0  LinkedIn Corporation Initial   ORG      3\n",
       "1                      May 2010  DATE    104\n",
       "2                   9 years ago  DATE     13\n",
       "3                       2010-05  DATE      3\n",
       "4          Platform Web Browser   ORG      3"
      ]
     },
     "execution_count": 6,
     "metadata": {},
     "output_type": "execute_result"
    }
   ],
   "source": [
    "elist = list(entities.items())\n",
    "entity_df = pd.DataFrame(data={'term': [e[0][0] for e in elist],\n",
    "                               'label': [e[0][1] for e in elist],\n",
    "                               'count': [e[1] for e in elist]})\n",
    "entity_df.head()"
   ]
  },
  {
   "cell_type": "code",
   "execution_count": 7,
   "metadata": {},
   "outputs": [],
   "source": [
    "# entity_df.to_csv('entity_list_with_labels.tsv', sep='\\t', index=False)"
   ]
  },
  {
   "cell_type": "code",
   "execution_count": 8,
   "metadata": {},
   "outputs": [],
   "source": [
    "entity_df = pd.read_csv('entity_list_with_labels.tsv', sep='\\t')"
   ]
  },
  {
   "cell_type": "code",
   "execution_count": 9,
   "metadata": {},
   "outputs": [],
   "source": [
    "entity_df['count'] = entity_df['count'].astype(dtype='int')"
   ]
  },
  {
   "cell_type": "code",
   "execution_count": 10,
   "metadata": {},
   "outputs": [
    {
     "data": {
      "text/html": [
       "<div>\n",
       "<style scoped>\n",
       "    .dataframe tbody tr th:only-of-type {\n",
       "        vertical-align: middle;\n",
       "    }\n",
       "\n",
       "    .dataframe tbody tr th {\n",
       "        vertical-align: top;\n",
       "    }\n",
       "\n",
       "    .dataframe thead th {\n",
       "        text-align: right;\n",
       "    }\n",
       "</style>\n",
       "<table border=\"1\" class=\"dataframe\">\n",
       "  <thead>\n",
       "    <tr style=\"text-align: right;\">\n",
       "      <th></th>\n",
       "      <th>term</th>\n",
       "      <th>label</th>\n",
       "      <th>count</th>\n",
       "      <th>len</th>\n",
       "    </tr>\n",
       "  </thead>\n",
       "  <tbody>\n",
       "    <tr>\n",
       "      <th>0</th>\n",
       "      <td>LinkedIn Corporation Initial</td>\n",
       "      <td>ORG</td>\n",
       "      <td>3</td>\n",
       "      <td>28</td>\n",
       "    </tr>\n",
       "    <tr>\n",
       "      <th>1</th>\n",
       "      <td>May 2010</td>\n",
       "      <td>DATE</td>\n",
       "      <td>104</td>\n",
       "      <td>8</td>\n",
       "    </tr>\n",
       "    <tr>\n",
       "      <th>2</th>\n",
       "      <td>9 years ago</td>\n",
       "      <td>DATE</td>\n",
       "      <td>13</td>\n",
       "      <td>11</td>\n",
       "    </tr>\n",
       "    <tr>\n",
       "      <th>3</th>\n",
       "      <td>2010-05</td>\n",
       "      <td>DATE</td>\n",
       "      <td>3</td>\n",
       "      <td>7</td>\n",
       "    </tr>\n",
       "    <tr>\n",
       "      <th>4</th>\n",
       "      <td>Platform Web Browser</td>\n",
       "      <td>ORG</td>\n",
       "      <td>3</td>\n",
       "      <td>20</td>\n",
       "    </tr>\n",
       "  </tbody>\n",
       "</table>\n",
       "</div>"
      ],
      "text/plain": [
       "                           term label  count  len\n",
       "0  LinkedIn Corporation Initial   ORG      3   28\n",
       "1                      May 2010  DATE    104    8\n",
       "2                   9 years ago  DATE     13   11\n",
       "3                       2010-05  DATE      3    7\n",
       "4          Platform Web Browser   ORG      3   20"
      ]
     },
     "execution_count": 10,
     "metadata": {},
     "output_type": "execute_result"
    }
   ],
   "source": [
    "entity_df['len'] = entity_df['term'].astype('str').apply(len)\n",
    "entity_df.head()"
   ]
  },
  {
   "cell_type": "code",
   "execution_count": 12,
   "metadata": {},
   "outputs": [
    {
     "data": {
      "text/plain": [
       "ORG            50846\n",
       "PERSON         42851\n",
       "DATE           26202\n",
       "CARDINAL       15170\n",
       "GPE            11735\n",
       "WORK_OF_ART    10940\n",
       "PRODUCT         5487\n",
       "FAC             4709\n",
       "MONEY           4256\n",
       "NORP            3512\n",
       "LOC             3262\n",
       "PERCENT         3065\n",
       "QUANTITY        2767\n",
       "EVENT           2039\n",
       "LAW             1861\n",
       "TIME             762\n",
       "LANGUAGE         323\n",
       "ORDINAL          269\n",
       "Name: label, dtype: int64"
      ]
     },
     "execution_count": 12,
     "metadata": {},
     "output_type": "execute_result"
    }
   ],
   "source": [
    "entity_df.label.value_counts()"
   ]
  },
  {
   "cell_type": "code",
   "execution_count": 13,
   "metadata": {},
   "outputs": [
    {
     "data": {
      "text/plain": [
       "0.80     2.0\n",
       "0.90     4.0\n",
       "0.95     8.0\n",
       "0.99    39.0\n",
       "Name: count, dtype: float64"
      ]
     },
     "execution_count": 13,
     "metadata": {},
     "output_type": "execute_result"
    }
   ],
   "source": [
    "entity_df['count'].quantile([0.8, 0.9, 0.95, 0.99])"
   ]
  },
  {
   "cell_type": "code",
   "execution_count": 17,
   "metadata": {},
   "outputs": [
    {
     "data": {
      "text/plain": [
       "33856"
      ]
     },
     "execution_count": 17,
     "metadata": {},
     "output_type": "execute_result"
    }
   ],
   "source": [
    "len(entity_df[entity_df['count'] > 2])"
   ]
  },
  {
   "cell_type": "code",
   "execution_count": 18,
   "metadata": {},
   "outputs": [
    {
     "data": {
      "text/plain": [
       "0.1     4.0\n",
       "0.2     5.0\n",
       "0.3     7.0\n",
       "0.4     9.0\n",
       "0.5    10.0\n",
       "0.6    12.0\n",
       "0.7    14.0\n",
       "0.8    16.0\n",
       "0.9    18.0\n",
       "Name: len, dtype: float64"
      ]
     },
     "execution_count": 18,
     "metadata": {},
     "output_type": "execute_result"
    }
   ],
   "source": [
    "count_mask = entity_df['count'] > 2\n",
    "N = 10\n",
    "quantiles = entity_df[count_mask].len.quantile([(1/N)*i for i in range(1, N)])\n",
    "quantiles"
   ]
  },
  {
   "cell_type": "code",
   "execution_count": 19,
   "metadata": {},
   "outputs": [
    {
     "data": {
      "text/plain": [
       "5230"
      ]
     },
     "execution_count": 19,
     "metadata": {},
     "output_type": "execute_result"
    }
   ],
   "source": [
    "len(entity_df[(entity_df.len <= quantiles.iloc[0]) & count_mask])"
   ]
  },
  {
   "cell_type": "code",
   "execution_count": 20,
   "metadata": {},
   "outputs": [
    {
     "data": {
      "text/plain": [
       "0.1"
      ]
     },
     "execution_count": 20,
     "metadata": {},
     "output_type": "execute_result"
    }
   ],
   "source": [
    "def jaccard(s1, s2):\n",
    "    s1, s2 = set(s1), set(s2)\n",
    "    return len(s1.intersection(s2)) / len(s1.union(s2))\n",
    "jaccard(entity_df.iloc[0, 0], entity_df.iloc[1, 0])"
   ]
  },
  {
   "cell_type": "code",
   "execution_count": 65,
   "metadata": {},
   "outputs": [
    {
     "name": "stdout",
     "output_type": "stream",
     "text": [
      "ORG\n",
      "217156\n",
      "1535121\n",
      "1507984\n",
      "1340964\n",
      "3013696\n",
      "2134521\n",
      "1612900\n",
      "2617924\n",
      "1926544\n",
      "PERSON\n",
      "249001\n",
      "3880900\n",
      "3794704\n",
      "1790244\n",
      "4305625\n",
      "3147076\n",
      "1825201\n",
      "1428025\n",
      "391876\n",
      "DATE\n",
      "CARDINAL\n",
      "GPE\n",
      "16641\n",
      "518400\n",
      "1115136\n",
      "592900\n",
      "994009\n",
      "286225\n",
      "76729\n",
      "66049\n",
      "26896\n",
      "WORK_OF_ART\n",
      "529\n",
      "4624\n",
      "4624\n",
      "7569\n",
      "20736\n",
      "13225\n",
      "8281\n",
      "13689\n",
      "11236\n",
      "PRODUCT\n",
      "5329\n",
      "74529\n",
      "70756\n",
      "51984\n",
      "87616\n",
      "32761\n",
      "9409\n",
      "14641\n",
      "8100\n",
      "FAC\n",
      "16\n",
      "441\n",
      "1225\n",
      "2401\n",
      "7569\n",
      "11025\n",
      "13225\n",
      "20736\n",
      "13456\n",
      "MONEY\n",
      "361\n",
      "5041\n",
      "1681\n",
      "2401\n",
      "33124\n",
      "40401\n",
      "13456\n",
      "1936\n",
      "361\n",
      "NORP\n",
      "900\n",
      "49729\n",
      "148996\n",
      "108900\n",
      "198025\n",
      "74529\n",
      "32041\n",
      "23409\n",
      "6889\n",
      "LOC\n",
      "400\n",
      "5929\n",
      "7744\n",
      "5929\n",
      "18225\n",
      "23409\n",
      "23409\n",
      "30276\n",
      "16129\n",
      "PERCENT\n",
      "11025\n",
      "145924\n",
      "961\n",
      "6241\n",
      "7921\n",
      "3600\n",
      "289\n",
      "361\n",
      "169\n",
      "QUANTITY\n",
      "144\n",
      "5041\n",
      "5041\n",
      "1089\n",
      "1600\n",
      "289\n",
      "64\n",
      "36\n",
      "25\n",
      "EVENT\n",
      "9\n",
      "121\n",
      "289\n",
      "1156\n",
      "3136\n",
      "2704\n",
      "2304\n",
      "2916\n",
      "3025\n",
      "LAW\n",
      "4\n",
      "36\n",
      "625\n",
      "1600\n",
      "2704\n",
      "2209\n",
      "1089\n",
      "2025\n",
      "1296\n",
      "TIME\n",
      "16\n",
      "121\n",
      "625\n",
      "1296\n",
      "2116\n",
      "1024\n",
      "289\n",
      "256\n",
      "81\n",
      "LANGUAGE\n",
      "1\n",
      "1089\n",
      "4225\n",
      "1369\n",
      "1681\n",
      "225\n",
      "9\n",
      "4\n",
      "0\n",
      "ORDINAL\n",
      "3600\n",
      "6889\n",
      "196\n",
      "49\n",
      "49\n",
      "1\n",
      "0\n",
      "0\n",
      "0\n",
      "Wall time: 37.6 s\n"
     ]
    }
   ],
   "source": [
    "%%time\n",
    "product_df = None\n",
    "excluded_labels = ['DATE', 'CARDINAL']\n",
    "for label in entity_df.label.value_counts().index:\n",
    "    tmp_df = None\n",
    "    print(label)\n",
    "    if label in excluded_labels:\n",
    "        continue\n",
    "    for length in quantiles:\n",
    "        mask = ((entity_df.len >= length * (1 - 0.2)) &\n",
    "                (entity_df.len <= length * (1 + 0.2)) &\n",
    "                count_mask &\n",
    "                (entity_df.label == label))\n",
    "        print(len(entity_df[mask])**2)\n",
    "        index = pd.MultiIndex.from_product([entity_df[mask].term, entity_df[mask].term], names=[\"term1\", \"term2\"])\n",
    "        if tmp_df is not None:\n",
    "            tmp_df = tmp_df.append(pd.DataFrame(index=index).reset_index(),\n",
    "                                   ignore_index=True)\n",
    "        else:\n",
    "            tmp_df = pd.DataFrame(index=index).reset_index()\n",
    "    tmp_df['label'] = label\n",
    "    if product_df is not None:\n",
    "        product_df = product_df.append(tmp_df, ignore_index=True)\n",
    "    else:\n",
    "        product_df = tmp_df"
   ]
  },
  {
   "cell_type": "code",
   "execution_count": 66,
   "metadata": {},
   "outputs": [
    {
     "name": "stdout",
     "output_type": "stream",
     "text": [
      "(42038088, 3)\n"
     ]
    },
    {
     "data": {
      "text/html": [
       "<div>\n",
       "<style scoped>\n",
       "    .dataframe tbody tr th:only-of-type {\n",
       "        vertical-align: middle;\n",
       "    }\n",
       "\n",
       "    .dataframe tbody tr th {\n",
       "        vertical-align: top;\n",
       "    }\n",
       "\n",
       "    .dataframe thead th {\n",
       "        text-align: right;\n",
       "    }\n",
       "</style>\n",
       "<table border=\"1\" class=\"dataframe\">\n",
       "  <thead>\n",
       "    <tr style=\"text-align: right;\">\n",
       "      <th></th>\n",
       "      <th>term1</th>\n",
       "      <th>term2</th>\n",
       "      <th>label</th>\n",
       "    </tr>\n",
       "  </thead>\n",
       "  <tbody>\n",
       "    <tr>\n",
       "      <th>0</th>\n",
       "      <td>iPod</td>\n",
       "      <td>iPod</td>\n",
       "      <td>ORG</td>\n",
       "    </tr>\n",
       "    <tr>\n",
       "      <th>1</th>\n",
       "      <td>iPod</td>\n",
       "      <td>CNBC</td>\n",
       "      <td>ORG</td>\n",
       "    </tr>\n",
       "    <tr>\n",
       "      <th>2</th>\n",
       "      <td>iPod</td>\n",
       "      <td>GFDL</td>\n",
       "      <td>ORG</td>\n",
       "    </tr>\n",
       "    <tr>\n",
       "      <th>3</th>\n",
       "      <td>iPod</td>\n",
       "      <td>CNET</td>\n",
       "      <td>ORG</td>\n",
       "    </tr>\n",
       "    <tr>\n",
       "      <th>4</th>\n",
       "      <td>iPod</td>\n",
       "      <td>HTML</td>\n",
       "      <td>ORG</td>\n",
       "    </tr>\n",
       "  </tbody>\n",
       "</table>\n",
       "</div>"
      ],
      "text/plain": [
       "  term1 term2 label\n",
       "0  iPod  iPod   ORG\n",
       "1  iPod  CNBC   ORG\n",
       "2  iPod  GFDL   ORG\n",
       "3  iPod  CNET   ORG\n",
       "4  iPod  HTML   ORG"
      ]
     },
     "execution_count": 66,
     "metadata": {},
     "output_type": "execute_result"
    }
   ],
   "source": [
    "print(product_df.shape)\n",
    "product_df.head()"
   ]
  },
  {
   "cell_type": "code",
   "execution_count": 67,
   "metadata": {},
   "outputs": [
    {
     "name": "stdout",
     "output_type": "stream",
     "text": [
      "Wall time: 7.89 s\n"
     ]
    }
   ],
   "source": [
    "%%time\n",
    "product_df['term1'] = product_df['term1'].astype(str)\n",
    "product_df['term2'] = product_df['term2'].astype(str)"
   ]
  },
  {
   "cell_type": "code",
   "execution_count": 68,
   "metadata": {},
   "outputs": [
    {
     "name": "stdout",
     "output_type": "stream",
     "text": [
      "Wall time: 7.74 s\n"
     ]
    }
   ],
   "source": [
    "%%time\n",
    "product_df = product_df[product_df.term1 < product_df.term2]"
   ]
  },
  {
   "cell_type": "code",
   "execution_count": 125,
   "metadata": {},
   "outputs": [
    {
     "name": "stdout",
     "output_type": "stream",
     "text": [
      "Wall time: 5.12 s\n"
     ]
    }
   ],
   "source": [
    "%%time\n",
    "import jellyfish\n",
    "# A fraction of the available entities... but choose a small amount\n",
    "# for fast iteration initially\n",
    "sampled_pdf = product_df.sample(int(1e5))\n",
    "sampled_pdf['jaro_winkler'] = \\\n",
    "    sampled_pdf.apply(lambda row: jellyfish.jaro_winkler(row[0], row[1]),\n",
    "                     axis=1)"
   ]
  },
  {
   "cell_type": "code",
   "execution_count": 126,
   "metadata": {},
   "outputs": [
    {
     "name": "stdout",
     "output_type": "stream",
     "text": [
      "(100000, 4)\n"
     ]
    },
    {
     "data": {
      "text/html": [
       "<div>\n",
       "<style scoped>\n",
       "    .dataframe tbody tr th:only-of-type {\n",
       "        vertical-align: middle;\n",
       "    }\n",
       "\n",
       "    .dataframe tbody tr th {\n",
       "        vertical-align: top;\n",
       "    }\n",
       "\n",
       "    .dataframe thead th {\n",
       "        text-align: right;\n",
       "    }\n",
       "</style>\n",
       "<table border=\"1\" class=\"dataframe\">\n",
       "  <thead>\n",
       "    <tr style=\"text-align: right;\">\n",
       "      <th></th>\n",
       "      <th>term1</th>\n",
       "      <th>term2</th>\n",
       "      <th>label</th>\n",
       "      <th>jaro_winkler</th>\n",
       "    </tr>\n",
       "  </thead>\n",
       "  <tbody>\n",
       "    <tr>\n",
       "      <th>38052550</th>\n",
       "      <td>Pashto</td>\n",
       "      <td>Terpstra</td>\n",
       "      <td>GPE</td>\n",
       "      <td>0.527778</td>\n",
       "    </tr>\n",
       "    <tr>\n",
       "      <th>2527786</th>\n",
       "      <td>CNN.com</td>\n",
       "      <td>Nature</td>\n",
       "      <td>ORG</td>\n",
       "      <td>0.436508</td>\n",
       "    </tr>\n",
       "    <tr>\n",
       "      <th>40101343</th>\n",
       "      <td>San Antonio</td>\n",
       "      <td>Thessaloniki</td>\n",
       "      <td>GPE</td>\n",
       "      <td>0.482323</td>\n",
       "    </tr>\n",
       "    <tr>\n",
       "      <th>30807573</th>\n",
       "      <td>Whitney Wolfe</td>\n",
       "      <td>lifecasting</td>\n",
       "      <td>PERSON</td>\n",
       "      <td>0.473776</td>\n",
       "    </tr>\n",
       "    <tr>\n",
       "      <th>36538703</th>\n",
       "      <td>Bill Clinton 's</td>\n",
       "      <td>Margaret Thatcher</td>\n",
       "      <td>PERSON</td>\n",
       "      <td>0.250327</td>\n",
       "    </tr>\n",
       "  </tbody>\n",
       "</table>\n",
       "</div>"
      ],
      "text/plain": [
       "                    term1              term2   label  jaro_winkler\n",
       "38052550           Pashto           Terpstra     GPE      0.527778\n",
       "2527786           CNN.com             Nature     ORG      0.436508\n",
       "40101343      San Antonio       Thessaloniki     GPE      0.482323\n",
       "30807573    Whitney Wolfe        lifecasting  PERSON      0.473776\n",
       "36538703  Bill Clinton 's  Margaret Thatcher  PERSON      0.250327"
      ]
     },
     "execution_count": 126,
     "metadata": {},
     "output_type": "execute_result"
    }
   ],
   "source": [
    "print(sampled_pdf.shape)\n",
    "sampled_pdf.head()"
   ]
  },
  {
   "cell_type": "code",
   "execution_count": 80,
   "metadata": {},
   "outputs": [],
   "source": [
    "# sampled_pdf.to_csv('jaro_winkler_blocked_by_labels.tsv', sep='\\t', index=False)"
   ]
  },
  {
   "cell_type": "code",
   "execution_count": 133,
   "metadata": {},
   "outputs": [
    {
     "name": "stdout",
     "output_type": "stream",
     "text": [
      "Remaining: 80\n",
      "14 percent\n",
      "Remaining: 70\n",
      "Andreas\n",
      "Remaining: 58\n",
      "about 30%\n",
      "Remaining: 47\n",
      "51 percent\n",
      "Remaining: 34\n",
      "$280 million\n",
      "              term1         term2  label  jaro_winkler\n",
      "39289  $280 million  $850 million  MONEY          0.95\n",
      "Remaining: 24\n",
      "Brandt\n",
      "Remaining: 14\n",
      "Michelle\n",
      "Remaining: 4\n",
      "$5 Million\n",
      "Wall time: 7.75 s\n"
     ]
    }
   ],
   "source": [
    "%%time\n",
    "import numpy as np\n",
    "blocks = {}\n",
    "jaro_winkler_threshold = 0.9\n",
    "excluded_mask = sampled_pdf.jaro_winkler <= jaro_winkler_threshold\n",
    "# Iteratively blocks entities.\n",
    "# Once an entity is matched to a block, it will be excluded from matching\n",
    "# others by adding its index to the excluded_mask\n",
    "# Excluded_mask does not exclude anything\n",
    "N = len(excluded_mask)\n",
    "sampled_pdf = sampled_pdf.reset_index(drop=True)\n",
    "cnt = 0\n",
    "while np.sum(excluded_mask) < N:\n",
    "    row = sampled_pdf[~excluded_mask].sample(1)\n",
    "    excluded_mask[row.index] = True\n",
    "    term = row.iloc[0, 0]\n",
    "    label = row.iloc[0, 2]\n",
    "    mask = ((~excluded_mask)\n",
    "            & (sampled_pdf.label == label)\n",
    "            & ((sampled_pdf.term1 == term) | (sampled_pdf.term2 == term))\n",
    "            & (sampled_pdf.jaro_winkler > jaro_winkler_threshold))\n",
    "    candidate_df = sampled_pdf[mask]\n",
    "    for canonical_term, block_mask in list(blocks.items()):\n",
    "        if np.sum(block_mask & mask) > 0:\n",
    "            block_mask |= mask\n",
    "            blocks[canonical_term] = block_mask\n",
    "            excluded_mask |= block_mask\n",
    "            break\n",
    "    else:\n",
    "        blocks[term] = mask\n",
    "        excluded_mask |= mask\n",
    "    if cnt % 10 == 0:\n",
    "        cnt = 0\n",
    "        print(\"Remaining:\", N - np.sum(excluded_mask))\n",
    "        print(term)\n",
    "        if sampled_pdf[blocks[term]].shape[0] > 0:\n",
    "            print(sampled_pdf[blocks[term]].sample(1))\n",
    "    cnt += 1"
   ]
  },
  {
   "cell_type": "code",
   "execution_count": 140,
   "metadata": {},
   "outputs": [
    {
     "name": "stdout",
     "output_type": "stream",
     "text": [
      "14 percent\n",
      "$2.7 billion\n",
      "The United Kingdom\n",
      "$4.6 billion\n",
      "$150 million\n",
      "13.0%\n",
      "up to 85%\n",
      "Charles Dow\n",
      "Chabert\n",
      "Lyle\n",
      "Andreas\n",
      "$100 million\n",
      "$2.4 billion\n",
      "Dignan\n",
      "$103 million\n",
      "Tieto\n",
      "$5 million\n",
      "             term1       term2  label  jaro_winkler\n",
      "78850  $14 million  $5 million  MONEY      0.915455\n",
      "Thomas F.\n",
      "           term1      term2   label  jaro_winkler\n",
      "88590  Thomas F.  Thomas X.  PERSON      0.955556\n",
      "Kurt\n",
      "Peter Gorne\n",
      "about 30%\n",
      "$140 million\n",
      "0.03%\n",
      "Google Blog\n",
      "$5 billion\n",
      "            term1        term2  label  jaro_winkler\n",
      "29246  $5 billion  $53 million  MONEY      0.915455\n",
      "$1.9 billion\n",
      "$7 Million\n",
      "Chapter 12\n",
      "25 per cent\n",
      "about 1%\n",
      "51 percent\n",
      "David B.\n",
      "$1.3 billion\n",
      "$26.2 billion\n",
      "               term1          term2  label  jaro_winkler\n",
      "51958  $20.7 billion  $26.2 billion  MONEY      0.907692\n",
      "Encyclopaedia Iranica\n",
      "0.3%\n",
      "6 percent\n",
      "$20 million\n",
      "             term1         term2  label  jaro_winkler\n",
      "10606  $20 million  $300 million  MONEY      0.922727\n",
      "1.3%\n",
      "1 MB RAM\n",
      "$280 million\n",
      "              term1         term2  label  jaro_winkler\n",
      "39289  $280 million  $850 million  MONEY          0.95\n",
      "Alexander\n",
      "Egyptian\n",
      "PowerPoint 2013\n",
      "US$22 million\n",
      "Windows RT\n",
      "Berg\n",
      "David L.\n",
      "$10.3 billion\n",
      "Central Bank\n",
      "Brandt\n",
      "James E.\n",
      "$1.8 billion\n",
      "James A. (\n",
      "$1.2 million\n",
      "Coblin\n",
      "$7.5 billion\n",
      "Lumia 520\n",
      "Michael R.\n",
      "Richard Allen\n",
      "Michelle\n",
      "Venturebeat.com\n",
      "55 percent\n",
      "Keller\n",
      "Laurence\n",
      "$1.2 billion\n",
      "Brendan\n",
      "Koch\n",
      "18 per cent\n",
      "Article 36\n",
      "$5 Million\n",
      "$1.5 million\n",
      "Friedman\n",
      "$15 million\n",
      "Eric Clapton\n"
     ]
    }
   ],
   "source": [
    "for term, mask in blocks.items():\n",
    "    print(term)\n",
    "    N = len(sampled_pdf[mask])\n",
    "    N = min(N, 10)\n",
    "    if N > 0:\n",
    "        print(sampled_pdf[mask].sample(N))"
   ]
  }
 ],
 "metadata": {
  "kernelspec": {
   "display_name": "Python 3",
   "language": "python",
   "name": "python3"
  },
  "language_info": {
   "codemirror_mode": {
    "name": "ipython",
    "version": 3
   },
   "file_extension": ".py",
   "mimetype": "text/x-python",
   "name": "python",
   "nbconvert_exporter": "python",
   "pygments_lexer": "ipython3",
   "version": "3.6.6"
  }
 },
 "nbformat": 4,
 "nbformat_minor": 2
}
