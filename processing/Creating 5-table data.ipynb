{
 "cells": [
  {
   "cell_type": "markdown",
   "metadata": {},
   "source": [
    "# About this notebook\n",
    "\n",
    "The following notebook consolidates all the data checked in and puts it into a 5-table format described by the profs slides."
   ]
  },
  {
   "cell_type": "code",
   "execution_count": 1,
   "metadata": {},
   "outputs": [],
   "source": [
    "import pandas as pd\n",
    "import numpy as np\n",
    "import json"
   ]
  },
  {
   "cell_type": "code",
   "execution_count": 2,
   "metadata": {},
   "outputs": [
    {
     "name": "stdout",
     "output_type": "stream",
     "text": [
      "(190056, 3)\n"
     ]
    },
    {
     "data": {
      "text/html": [
       "<div>\n",
       "<style scoped>\n",
       "    .dataframe tbody tr th:only-of-type {\n",
       "        vertical-align: middle;\n",
       "    }\n",
       "\n",
       "    .dataframe tbody tr th {\n",
       "        vertical-align: top;\n",
       "    }\n",
       "\n",
       "    .dataframe thead th {\n",
       "        text-align: right;\n",
       "    }\n",
       "</style>\n",
       "<table border=\"1\" class=\"dataframe\">\n",
       "  <thead>\n",
       "    <tr style=\"text-align: right;\">\n",
       "      <th></th>\n",
       "      <th>term</th>\n",
       "      <th>label</th>\n",
       "      <th>count</th>\n",
       "    </tr>\n",
       "  </thead>\n",
       "  <tbody>\n",
       "    <tr>\n",
       "      <th>0</th>\n",
       "      <td>LinkedIn Corporation Initial</td>\n",
       "      <td>ORG</td>\n",
       "      <td>3</td>\n",
       "    </tr>\n",
       "    <tr>\n",
       "      <th>1</th>\n",
       "      <td>May 2010</td>\n",
       "      <td>DATE</td>\n",
       "      <td>104</td>\n",
       "    </tr>\n",
       "    <tr>\n",
       "      <th>2</th>\n",
       "      <td>9 years ago</td>\n",
       "      <td>DATE</td>\n",
       "      <td>13</td>\n",
       "    </tr>\n",
       "    <tr>\n",
       "      <th>3</th>\n",
       "      <td>2010-05</td>\n",
       "      <td>DATE</td>\n",
       "      <td>3</td>\n",
       "    </tr>\n",
       "    <tr>\n",
       "      <th>4</th>\n",
       "      <td>Platform Web Browser</td>\n",
       "      <td>ORG</td>\n",
       "      <td>3</td>\n",
       "    </tr>\n",
       "  </tbody>\n",
       "</table>\n",
       "</div>"
      ],
      "text/plain": [
       "                           term label  count\n",
       "0  LinkedIn Corporation Initial   ORG      3\n",
       "1                      May 2010  DATE    104\n",
       "2                   9 years ago  DATE     13\n",
       "3                       2010-05  DATE      3\n",
       "4          Platform Web Browser   ORG      3"
      ]
     },
     "execution_count": 2,
     "metadata": {},
     "output_type": "execute_result"
    }
   ],
   "source": [
    "labeled_entity_df = pd.read_csv('entity_list_with_labels.tsv', index_col=False, sep='\\t')\n",
    "print(labeled_entity_df.shape)\n",
    "labeled_entity_df.head()"
   ]
  },
  {
   "cell_type": "code",
   "execution_count": 3,
   "metadata": {},
   "outputs": [
    {
     "name": "stdout",
     "output_type": "stream",
     "text": [
      "(1034, 1)\n"
     ]
    },
    {
     "data": {
      "text/html": [
       "<div>\n",
       "<style scoped>\n",
       "    .dataframe tbody tr th:only-of-type {\n",
       "        vertical-align: middle;\n",
       "    }\n",
       "\n",
       "    .dataframe tbody tr th {\n",
       "        vertical-align: top;\n",
       "    }\n",
       "\n",
       "    .dataframe thead th {\n",
       "        text-align: right;\n",
       "    }\n",
       "</style>\n",
       "<table border=\"1\" class=\"dataframe\">\n",
       "  <thead>\n",
       "    <tr style=\"text-align: right;\">\n",
       "      <th></th>\n",
       "      <th>nodes</th>\n",
       "    </tr>\n",
       "  </thead>\n",
       "  <tbody>\n",
       "    <tr>\n",
       "      <th>0</th>\n",
       "      <td>(Cork newspaper)</td>\n",
       "    </tr>\n",
       "    <tr>\n",
       "      <th>1</th>\n",
       "      <td>(magazine)</td>\n",
       "    </tr>\n",
       "    <tr>\n",
       "      <th>2</th>\n",
       "      <td>500</td>\n",
       "    </tr>\n",
       "    <tr>\n",
       "      <th>3</th>\n",
       "      <td>.NET Foundation</td>\n",
       "    </tr>\n",
       "    <tr>\n",
       "      <th>4</th>\n",
       "      <td>1&amp;1 Drillisch</td>\n",
       "    </tr>\n",
       "  </tbody>\n",
       "</table>\n",
       "</div>"
      ],
      "text/plain": [
       "               nodes\n",
       "0   (Cork newspaper)\n",
       "1         (magazine)\n",
       "2                500\n",
       "3    .NET Foundation\n",
       "4      1&1 Drillisch"
      ]
     },
     "execution_count": 3,
     "metadata": {},
     "output_type": "execute_result"
    }
   ],
   "source": [
    "mikes_nodes_df = pd.read_csv('../scraping/nodes.tsv', index_col=False, sep='\\t')\n",
    "print(mikes_nodes_df.shape)\n",
    "mikes_nodes_df.head()"
   ]
  },
  {
   "cell_type": "code",
   "execution_count": 4,
   "metadata": {},
   "outputs": [
    {
     "data": {
      "text/plain": [
       "[('LinkedIn',\n",
       "  {'naics': '541511',\n",
       "   'headcount': ['20547'],\n",
       "   'Type of business': 'Subsidiary',\n",
       "   'Type of site': 'Social networking service',\n",
       "   'Available in': 'Multilingual (24)',\n",
       "   'Founded': 'December 28, 2002; 16 years ago (2002-12-28)Mountain View, California, U.S.',\n",
       "   'Headquarters': 'Sunnyvale, California, U.S.',\n",
       "   'Area served': 'Worldwide',\n",
       "   'Founder(s)': 'Reid HoffmanAllen BlueKonstantin GuerickeEric LyJean-Luc Vaillant',\n",
       "   'CEO': 'Jeff Weiner',\n",
       "   'Key people': 'Shannon Brayton (CMO) Christina Hall (CPO, SVP) Steve Sordello (CFO, SVP)',\n",
       "   'Industry': 'Internet',\n",
       "   'Products': 'SlideShare',\n",
       "   'Employees': '15,000 (2019)',\n",
       "   'Parent': 'Microsoft Corporation',\n",
       "   'Subsidiaries': 'LearningConnectifier',\n",
       "   'Website': 'www.linkedin.com',\n",
       "   'Alexa rank': '58 (November 2019[update])[1]',\n",
       "   'Advertising': 'Google, AdSense',\n",
       "   'Registration': 'Required',\n",
       "   'Users': '630 million members (June 2019)',\n",
       "   'Launched': 'May 5, 2003; 16 years ago (2003-05-05)',\n",
       "   'Current status': 'Active',\n",
       "   'pg_0': \"**LinkedIn** (/ lɪŋktˈɪn/) is an American business and employment-oriented service that operates via websites and mobile apps. Founded on December 28, 2002,[4] and launched on May 5, 2003,[5] it is mainly used for professional networking, including employers posting jobs and job seekers posting their CVs. As of 2015, most of the company's revenue came from selling access to information about its members to recruiters and sales professionals.[6] Since December 2016 it has been a wholly owned subsidiary of Microsoft. As of June 2019, LinkedIn had 630 million registered members in 200 countries.\",\n",
       "   'pg_1': 'LinkedIn allows members (both workers and employers) to create profiles and \"connections\" to each other in an online social network which may represent real-world professional relationships. Members can invite anyone (whether an existing member or not) to become a connection.[7] LinkedIn participated in the EU\\'s International Safe Harbor Privacy Principles.[8]'})]"
      ]
     },
     "execution_count": 4,
     "metadata": {},
     "output_type": "execute_result"
    }
   ],
   "source": [
    "with open('../scraping/kevin_scrape/result_kk.json', 'r') as f:\n",
    "    kevins_json = json.loads(f.read())\n",
    "list(kevins_json.items())[:1]"
   ]
  },
  {
   "cell_type": "code",
   "execution_count": 5,
   "metadata": {},
   "outputs": [
    {
     "name": "stdout",
     "output_type": "stream",
     "text": [
      "7\n"
     ]
    },
    {
     "data": {
      "text/plain": [
       "['LinkedIn', 'Lynda.com', 'ZipRecruiter Inc', 'Indeed.com', 'SlideShare']"
      ]
     },
     "execution_count": 5,
     "metadata": {},
     "output_type": "execute_result"
    }
   ],
   "source": [
    "kevin_entities = [key for key in kevins_json]\n",
    "print(len(kevin_entities))\n",
    "kevin_entities[:5]"
   ]
  },
  {
   "cell_type": "markdown",
   "metadata": {},
   "source": [
    "# Entity comparison\n",
    "\n",
    "How do the entity lists compares? Which entities appear in some and not others?"
   ]
  },
  {
   "cell_type": "code",
   "execution_count": 6,
   "metadata": {},
   "outputs": [
    {
     "name": "stdout",
     "output_type": "stream",
     "text": [
      "Missing: ZipRecruiter Inc\n"
     ]
    }
   ],
   "source": [
    "for k in kevin_entities:\n",
    "    if not any(labeled_entity_df.term == k):\n",
    "        print(\"Missing:\", k)"
   ]
  },
  {
   "cell_type": "code",
   "execution_count": 7,
   "metadata": {},
   "outputs": [
    {
     "data": {
      "text/html": [
       "<div>\n",
       "<style scoped>\n",
       "    .dataframe tbody tr th:only-of-type {\n",
       "        vertical-align: middle;\n",
       "    }\n",
       "\n",
       "    .dataframe tbody tr th {\n",
       "        vertical-align: top;\n",
       "    }\n",
       "\n",
       "    .dataframe thead th {\n",
       "        text-align: right;\n",
       "    }\n",
       "</style>\n",
       "<table border=\"1\" class=\"dataframe\">\n",
       "  <thead>\n",
       "    <tr style=\"text-align: right;\">\n",
       "      <th></th>\n",
       "      <th>term</th>\n",
       "      <th>label</th>\n",
       "      <th>count</th>\n",
       "    </tr>\n",
       "  </thead>\n",
       "  <tbody>\n",
       "    <tr>\n",
       "      <th>85357</th>\n",
       "      <td>ZipRecruiter</td>\n",
       "      <td>PERSON</td>\n",
       "      <td>1</td>\n",
       "    </tr>\n",
       "  </tbody>\n",
       "</table>\n",
       "</div>"
      ],
      "text/plain": [
       "               term   label  count\n",
       "85357  ZipRecruiter  PERSON      1"
      ]
     },
     "execution_count": 7,
     "metadata": {},
     "output_type": "execute_result"
    }
   ],
   "source": [
    "mask = labeled_entity_df.term.apply(lambda x: 'ZipRecruiter' in str(x))\n",
    "labeled_entity_df[mask]"
   ]
  },
  {
   "cell_type": "markdown",
   "metadata": {},
   "source": [
    "Might as well fix this row..."
   ]
  },
  {
   "cell_type": "code",
   "execution_count": 8,
   "metadata": {},
   "outputs": [
    {
     "data": {
      "text/html": [
       "<div>\n",
       "<style scoped>\n",
       "    .dataframe tbody tr th:only-of-type {\n",
       "        vertical-align: middle;\n",
       "    }\n",
       "\n",
       "    .dataframe tbody tr th {\n",
       "        vertical-align: top;\n",
       "    }\n",
       "\n",
       "    .dataframe thead th {\n",
       "        text-align: right;\n",
       "    }\n",
       "</style>\n",
       "<table border=\"1\" class=\"dataframe\">\n",
       "  <thead>\n",
       "    <tr style=\"text-align: right;\">\n",
       "      <th></th>\n",
       "      <th>term</th>\n",
       "      <th>label</th>\n",
       "      <th>count</th>\n",
       "    </tr>\n",
       "  </thead>\n",
       "  <tbody>\n",
       "    <tr>\n",
       "      <th>85357</th>\n",
       "      <td>ZipRecruiter</td>\n",
       "      <td>ORG</td>\n",
       "      <td>1</td>\n",
       "    </tr>\n",
       "  </tbody>\n",
       "</table>\n",
       "</div>"
      ],
      "text/plain": [
       "               term label  count\n",
       "85357  ZipRecruiter   ORG      1"
      ]
     },
     "execution_count": 8,
     "metadata": {},
     "output_type": "execute_result"
    }
   ],
   "source": [
    "labeled_entity_df.loc[mask, 'label'] = 'ORG'\n",
    "labeled_entity_df[mask]"
   ]
  },
  {
   "cell_type": "code",
   "execution_count": 9,
   "metadata": {},
   "outputs": [
    {
     "name": "stdout",
     "output_type": "stream",
     "text": [
      "% of mikes_nodes_df not in labeled_entity_df: 38.49129593810445%\n",
      "Wall time: 21.3 s\n"
     ]
    }
   ],
   "source": [
    "%%time\n",
    "target = labeled_entity_df.term.str.lower()\n",
    "mask = mikes_nodes_df.nodes.apply(lambda k: not any(target == k.lower()))\n",
    "cnt = np.sum(mask)\n",
    "print(\"% of mikes_nodes_df not in labeled_entity_df: {}%\".format(cnt/len(mikes_nodes_df)*100))"
   ]
  },
  {
   "cell_type": "code",
   "execution_count": 10,
   "metadata": {},
   "outputs": [
    {
     "data": {
      "text/html": [
       "<div>\n",
       "<style scoped>\n",
       "    .dataframe tbody tr th:only-of-type {\n",
       "        vertical-align: middle;\n",
       "    }\n",
       "\n",
       "    .dataframe tbody tr th {\n",
       "        vertical-align: top;\n",
       "    }\n",
       "\n",
       "    .dataframe thead th {\n",
       "        text-align: right;\n",
       "    }\n",
       "</style>\n",
       "<table border=\"1\" class=\"dataframe\">\n",
       "  <thead>\n",
       "    <tr style=\"text-align: right;\">\n",
       "      <th></th>\n",
       "      <th>nodes</th>\n",
       "    </tr>\n",
       "  </thead>\n",
       "  <tbody>\n",
       "    <tr>\n",
       "      <th>477</th>\n",
       "      <td>MP3</td>\n",
       "    </tr>\n",
       "    <tr>\n",
       "      <th>1028</th>\n",
       "      <td>telephony</td>\n",
       "    </tr>\n",
       "    <tr>\n",
       "      <th>100</th>\n",
       "      <td>Business relations</td>\n",
       "    </tr>\n",
       "    <tr>\n",
       "      <th>503</th>\n",
       "      <td>Meerkat (app)</td>\n",
       "    </tr>\n",
       "    <tr>\n",
       "      <th>213</th>\n",
       "      <td>Donya Labs AB</td>\n",
       "    </tr>\n",
       "    <tr>\n",
       "      <th>186</th>\n",
       "      <td>Czech language</td>\n",
       "    </tr>\n",
       "    <tr>\n",
       "      <th>972</th>\n",
       "      <td>Wretch (website)</td>\n",
       "    </tr>\n",
       "    <tr>\n",
       "      <th>216</th>\n",
       "      <td>Dr Ben Medlock</td>\n",
       "    </tr>\n",
       "    <tr>\n",
       "      <th>544</th>\n",
       "      <td>Microsoft Ignite</td>\n",
       "    </tr>\n",
       "    <tr>\n",
       "      <th>268</th>\n",
       "      <td>Expedia Global Partner Solutions</td>\n",
       "    </tr>\n",
       "  </tbody>\n",
       "</table>\n",
       "</div>"
      ],
      "text/plain": [
       "                                 nodes\n",
       "477                                MP3\n",
       "1028                         telephony\n",
       "100                 Business relations\n",
       "503                      Meerkat (app)\n",
       "213                      Donya Labs AB\n",
       "186                     Czech language\n",
       "972                   Wretch (website)\n",
       "216                     Dr Ben Medlock\n",
       "544                   Microsoft Ignite\n",
       "268   Expedia Global Partner Solutions"
      ]
     },
     "execution_count": 10,
     "metadata": {},
     "output_type": "execute_result"
    }
   ],
   "source": [
    "mikes_nodes_df[mask].sample(10, random_state=42)"
   ]
  },
  {
   "cell_type": "markdown",
   "metadata": {},
   "source": [
    "# Consolidating entities\n",
    "\n",
    "It seems that `mikes_nodes_df` has at least some legitimate entities that are not otherwise represented. I'll add these to the list of nodes, with the labels ommitted. We'll need to revisit how to get the labels in the future. One possibility is to use a model like word2vec to cluster labeled nodes, and then assign unlabeled nodes based on the cluster they're closest to."
   ]
  },
  {
   "cell_type": "code",
   "execution_count": 11,
   "metadata": {},
   "outputs": [
    {
     "data": {
      "text/html": [
       "<div>\n",
       "<style scoped>\n",
       "    .dataframe tbody tr th:only-of-type {\n",
       "        vertical-align: middle;\n",
       "    }\n",
       "\n",
       "    .dataframe tbody tr th {\n",
       "        vertical-align: top;\n",
       "    }\n",
       "\n",
       "    .dataframe thead th {\n",
       "        text-align: right;\n",
       "    }\n",
       "</style>\n",
       "<table border=\"1\" class=\"dataframe\">\n",
       "  <thead>\n",
       "    <tr style=\"text-align: right;\">\n",
       "      <th></th>\n",
       "      <th>term</th>\n",
       "      <th>label</th>\n",
       "      <th>count</th>\n",
       "    </tr>\n",
       "  </thead>\n",
       "  <tbody>\n",
       "    <tr>\n",
       "      <th>0</th>\n",
       "      <td>CEO</td>\n",
       "      <td></td>\n",
       "      <td>11</td>\n",
       "    </tr>\n",
       "    <tr>\n",
       "      <th>1</th>\n",
       "      <td>Chairman</td>\n",
       "      <td></td>\n",
       "      <td>7</td>\n",
       "    </tr>\n",
       "    <tr>\n",
       "      <th>2</th>\n",
       "      <td>supervisory board</td>\n",
       "      <td></td>\n",
       "      <td>4</td>\n",
       "    </tr>\n",
       "    <tr>\n",
       "      <th>3</th>\n",
       "      <td>Microsoft Ignite</td>\n",
       "      <td></td>\n",
       "      <td>1</td>\n",
       "    </tr>\n",
       "    <tr>\n",
       "      <th>4</th>\n",
       "      <td>Champagne (advertisement)</td>\n",
       "      <td></td>\n",
       "      <td>1</td>\n",
       "    </tr>\n",
       "  </tbody>\n",
       "</table>\n",
       "</div>"
      ],
      "text/plain": [
       "                        term label  count\n",
       "0                        CEO           11\n",
       "1                   Chairman            7\n",
       "2          supervisory board            4\n",
       "3           Microsoft Ignite            1\n",
       "4  Champagne (advertisement)            1"
      ]
     },
     "execution_count": 11,
     "metadata": {},
     "output_type": "execute_result"
    }
   ],
   "source": [
    "tmp_df = pd.DataFrame(data={\"term\": mikes_nodes_df[mask].nodes.value_counts().index,\n",
    "                            \"label\": [\"\"]*len(mikes_nodes_df[mask].nodes.value_counts()),\n",
    "                            \"count\": mikes_nodes_df[mask].nodes.value_counts()}).reset_index(drop=True)\n",
    "tmp_df.head()"
   ]
  },
  {
   "cell_type": "code",
   "execution_count": 12,
   "metadata": {},
   "outputs": [
    {
     "name": "stdout",
     "output_type": "stream",
     "text": [
      "190056\n",
      "190435\n"
     ]
    }
   ],
   "source": [
    "print(len(labeled_entity_df))\n",
    "labeled_entity_df = labeled_entity_df.append(tmp_df)\n",
    "print(len(labeled_entity_df))"
   ]
  },
  {
   "cell_type": "code",
   "execution_count": 13,
   "metadata": {},
   "outputs": [],
   "source": [
    "# Adding the counts to the labeled_entity_df\n",
    "for term, cnt in mikes_nodes_df[~mask].nodes.value_counts().items():\n",
    "    tmask = labeled_entity_df.term == term\n",
    "    labeled_entity_df.loc[tmask, 'count'] += cnt"
   ]
  },
  {
   "cell_type": "markdown",
   "metadata": {},
   "source": [
    "For the present NodeLabels tables I'll only output the most common entities, removing some node types that I don't think we're particularly interested in.\n",
    "\n",
    "The meaning of the entity labels is given on this page: https://spacy.io/api/annotation#named-entities"
   ]
  },
  {
   "cell_type": "code",
   "execution_count": 14,
   "metadata": {},
   "outputs": [
    {
     "data": {
      "text/html": [
       "<div>\n",
       "<style scoped>\n",
       "    .dataframe tbody tr th:only-of-type {\n",
       "        vertical-align: middle;\n",
       "    }\n",
       "\n",
       "    .dataframe tbody tr th {\n",
       "        vertical-align: top;\n",
       "    }\n",
       "\n",
       "    .dataframe thead th {\n",
       "        text-align: right;\n",
       "    }\n",
       "</style>\n",
       "<table border=\"1\" class=\"dataframe\">\n",
       "  <thead>\n",
       "    <tr style=\"text-align: right;\">\n",
       "      <th></th>\n",
       "      <th>term</th>\n",
       "      <th>label</th>\n",
       "      <th>count</th>\n",
       "    </tr>\n",
       "  </thead>\n",
       "  <tbody>\n",
       "    <tr>\n",
       "      <th>63</th>\n",
       "      <td>Microsoft</td>\n",
       "      <td>ORG</td>\n",
       "      <td>9334</td>\n",
       "    </tr>\n",
       "    <tr>\n",
       "      <th>961</th>\n",
       "      <td>ISBN</td>\n",
       "      <td>ORG</td>\n",
       "      <td>3407</td>\n",
       "    </tr>\n",
       "    <tr>\n",
       "      <th>28</th>\n",
       "      <td>first</td>\n",
       "      <td>ORDINAL</td>\n",
       "      <td>3335</td>\n",
       "    </tr>\n",
       "    <tr>\n",
       "      <th>15</th>\n",
       "      <td>2</td>\n",
       "      <td>CARDINAL</td>\n",
       "      <td>3226</td>\n",
       "    </tr>\n",
       "    <tr>\n",
       "      <th>11</th>\n",
       "      <td>1</td>\n",
       "      <td>CARDINAL</td>\n",
       "      <td>3185</td>\n",
       "    </tr>\n",
       "  </tbody>\n",
       "</table>\n",
       "</div>"
      ],
      "text/plain": [
       "          term     label  count\n",
       "63   Microsoft       ORG   9334\n",
       "961       ISBN       ORG   3407\n",
       "28       first   ORDINAL   3335\n",
       "15           2  CARDINAL   3226\n",
       "11           1  CARDINAL   3185"
      ]
     },
     "execution_count": 14,
     "metadata": {},
     "output_type": "execute_result"
    }
   ],
   "source": [
    "labeled_entity_df = labeled_entity_df.sort_values(by=['count'], ascending=False)\n",
    "labeled_entity_df.head()"
   ]
  },
  {
   "cell_type": "code",
   "execution_count": 15,
   "metadata": {},
   "outputs": [
    {
     "data": {
      "text/plain": [
       "0.5    1.0\n",
       "0.9    4.0\n",
       "Name: count, dtype: float64"
      ]
     },
     "execution_count": 15,
     "metadata": {},
     "output_type": "execute_result"
    }
   ],
   "source": [
    "labeled_entity_df['count'].quantile([0.5, 0.9])"
   ]
  },
  {
   "cell_type": "markdown",
   "metadata": {},
   "source": [
    "## Naics codes\n",
    "\n",
    "I'll also add in the NAICS codes specifically as nodes. Extracted from Ashok's current graph db with the query:\n",
    "\n",
    "    MATCH (a:NAICS) RETURN id(a) as id, a.name as node, \"NAICS\" as label"
   ]
  },
  {
   "cell_type": "code",
   "execution_count": 16,
   "metadata": {},
   "outputs": [
    {
     "data": {
      "text/html": [
       "<div>\n",
       "<style scoped>\n",
       "    .dataframe tbody tr th:only-of-type {\n",
       "        vertical-align: middle;\n",
       "    }\n",
       "\n",
       "    .dataframe tbody tr th {\n",
       "        vertical-align: top;\n",
       "    }\n",
       "\n",
       "    .dataframe thead th {\n",
       "        text-align: right;\n",
       "    }\n",
       "</style>\n",
       "<table border=\"1\" class=\"dataframe\">\n",
       "  <thead>\n",
       "    <tr style=\"text-align: right;\">\n",
       "      <th></th>\n",
       "      <th>id</th>\n",
       "      <th>node</th>\n",
       "      <th>label</th>\n",
       "    </tr>\n",
       "  </thead>\n",
       "  <tbody>\n",
       "    <tr>\n",
       "      <th>0</th>\n",
       "      <td>1</td>\n",
       "      <td>541511</td>\n",
       "      <td>NAICS</td>\n",
       "    </tr>\n",
       "    <tr>\n",
       "      <th>1</th>\n",
       "      <td>7</td>\n",
       "      <td>518210</td>\n",
       "      <td>NAICS</td>\n",
       "    </tr>\n",
       "    <tr>\n",
       "      <th>2</th>\n",
       "      <td>10</td>\n",
       "      <td>541810</td>\n",
       "      <td>NAICS</td>\n",
       "    </tr>\n",
       "    <tr>\n",
       "      <th>3</th>\n",
       "      <td>13</td>\n",
       "      <td>NoNAICS</td>\n",
       "      <td>NAICS</td>\n",
       "    </tr>\n",
       "    <tr>\n",
       "      <th>4</th>\n",
       "      <td>18</td>\n",
       "      <td>561311</td>\n",
       "      <td>NAICS</td>\n",
       "    </tr>\n",
       "  </tbody>\n",
       "</table>\n",
       "</div>"
      ],
      "text/plain": [
       "   id     node  label\n",
       "0   1   541511  NAICS\n",
       "1   7   518210  NAICS\n",
       "2  10   541810  NAICS\n",
       "3  13  NoNAICS  NAICS\n",
       "4  18   561311  NAICS"
      ]
     },
     "execution_count": 16,
     "metadata": {},
     "output_type": "execute_result"
    }
   ],
   "source": [
    "naics_nodes = pd.read_csv('naics.csv')\n",
    "naics_nodes.head()"
   ]
  },
  {
   "cell_type": "code",
   "execution_count": 17,
   "metadata": {},
   "outputs": [
    {
     "data": {
      "text/html": [
       "<div>\n",
       "<style scoped>\n",
       "    .dataframe tbody tr th:only-of-type {\n",
       "        vertical-align: middle;\n",
       "    }\n",
       "\n",
       "    .dataframe tbody tr th {\n",
       "        vertical-align: top;\n",
       "    }\n",
       "\n",
       "    .dataframe thead th {\n",
       "        text-align: right;\n",
       "    }\n",
       "</style>\n",
       "<table border=\"1\" class=\"dataframe\">\n",
       "  <thead>\n",
       "    <tr style=\"text-align: right;\">\n",
       "      <th></th>\n",
       "      <th>term</th>\n",
       "      <th>label</th>\n",
       "      <th>count</th>\n",
       "    </tr>\n",
       "  </thead>\n",
       "  <tbody>\n",
       "    <tr>\n",
       "      <th>0</th>\n",
       "      <td>541511</td>\n",
       "      <td>NAICS</td>\n",
       "      <td>1</td>\n",
       "    </tr>\n",
       "    <tr>\n",
       "      <th>1</th>\n",
       "      <td>518210</td>\n",
       "      <td>NAICS</td>\n",
       "      <td>1</td>\n",
       "    </tr>\n",
       "    <tr>\n",
       "      <th>2</th>\n",
       "      <td>541810</td>\n",
       "      <td>NAICS</td>\n",
       "      <td>1</td>\n",
       "    </tr>\n",
       "    <tr>\n",
       "      <th>4</th>\n",
       "      <td>561311</td>\n",
       "      <td>NAICS</td>\n",
       "      <td>1</td>\n",
       "    </tr>\n",
       "  </tbody>\n",
       "</table>\n",
       "</div>"
      ],
      "text/plain": [
       "     term  label  count\n",
       "0  541511  NAICS      1\n",
       "1  518210  NAICS      1\n",
       "2  541810  NAICS      1\n",
       "4  561311  NAICS      1"
      ]
     },
     "execution_count": 17,
     "metadata": {},
     "output_type": "execute_result"
    }
   ],
   "source": [
    "# NoNAICS really models the absence of a relationship.\n",
    "# Could we get rid of it? If you want to keep it comment the line below.\n",
    "naics_nodes = naics_nodes[naics_nodes.node != 'NoNAICS']\n",
    "naics_nodes = pd.DataFrame(data={\"term\": naics_nodes.node,\n",
    "                                 \"label\": naics_nodes.label,\n",
    "                                 \"count\": [1]*len(naics_nodes)})\n",
    "naics_nodes.head()"
   ]
  },
  {
   "cell_type": "code",
   "execution_count": 18,
   "metadata": {},
   "outputs": [
    {
     "name": "stdout",
     "output_type": "stream",
     "text": [
      "40907\n"
     ]
    }
   ],
   "source": [
    "excluded_types = ['CARDINAL', 'ORDINAL', 'DATE', 'TIME']\n",
    "mask = (~labeled_entity_df.label.isin(excluded_types)) & (labeled_entity_df['count'] >= 2)\n",
    "print(np.sum(mask))\n",
    "labeled_entity_df[mask].append(naics_nodes).drop('count', axis=1).to_csv('5tables/NodeLabels.tsv', index=False, sep='\\t')"
   ]
  },
  {
   "cell_type": "code",
   "execution_count": 19,
   "metadata": {},
   "outputs": [],
   "source": [
    "labeled_entity_df.append(naics_nodes).drop('count', axis=1).to_csv('5tables/NodeLabels_complete.tsv', index=False, sep='\\t')"
   ]
  },
  {
   "cell_type": "code",
   "execution_count": 20,
   "metadata": {},
   "outputs": [
    {
     "data": {
      "text/html": [
       "<div>\n",
       "<style scoped>\n",
       "    .dataframe tbody tr th:only-of-type {\n",
       "        vertical-align: middle;\n",
       "    }\n",
       "\n",
       "    .dataframe tbody tr th {\n",
       "        vertical-align: top;\n",
       "    }\n",
       "\n",
       "    .dataframe thead th {\n",
       "        text-align: right;\n",
       "    }\n",
       "</style>\n",
       "<table border=\"1\" class=\"dataframe\">\n",
       "  <thead>\n",
       "    <tr style=\"text-align: right;\">\n",
       "      <th></th>\n",
       "      <th>term</th>\n",
       "      <th>label</th>\n",
       "    </tr>\n",
       "  </thead>\n",
       "  <tbody>\n",
       "    <tr>\n",
       "      <th>0</th>\n",
       "      <td>Microsoft</td>\n",
       "      <td>ORG</td>\n",
       "    </tr>\n",
       "    <tr>\n",
       "      <th>1</th>\n",
       "      <td>ISBN</td>\n",
       "      <td>ORG</td>\n",
       "    </tr>\n",
       "    <tr>\n",
       "      <th>2</th>\n",
       "      <td>China</td>\n",
       "      <td>GPE</td>\n",
       "    </tr>\n",
       "  </tbody>\n",
       "</table>\n",
       "</div>"
      ],
      "text/plain": [
       "        term label\n",
       "0  Microsoft   ORG\n",
       "1       ISBN   ORG\n",
       "2      China   GPE"
      ]
     },
     "execution_count": 20,
     "metadata": {},
     "output_type": "execute_result"
    }
   ],
   "source": [
    "NodeLabels_df = pd.read_csv('5tables/NodeLabels.tsv', index_col=False, sep='\\t')\n",
    "NodeLabels_df.head(3)"
   ]
  },
  {
   "cell_type": "markdown",
   "metadata": {},
   "source": [
    "# Edge lists\n",
    "\n",
    "Following section consolidates the edge lists. Right now this includes the edge list I generated and the edge list implicitly used by Ashok's script. In order to extract Ashok's implicit edge list I actually created a graph by running his script, and run the following cypher query against it:\n",
    "\n",
    "    MATCH (a)-[e]->(b) RETURN id(e) as id, a.name as begin, b.name as end, type(e) as label"
   ]
  },
  {
   "cell_type": "code",
   "execution_count": 21,
   "metadata": {},
   "outputs": [
    {
     "name": "stdout",
     "output_type": "stream",
     "text": [
      "30\n"
     ]
    },
    {
     "data": {
      "text/html": [
       "<div>\n",
       "<style scoped>\n",
       "    .dataframe tbody tr th:only-of-type {\n",
       "        vertical-align: middle;\n",
       "    }\n",
       "\n",
       "    .dataframe tbody tr th {\n",
       "        vertical-align: top;\n",
       "    }\n",
       "\n",
       "    .dataframe thead th {\n",
       "        text-align: right;\n",
       "    }\n",
       "</style>\n",
       "<table border=\"1\" class=\"dataframe\">\n",
       "  <thead>\n",
       "    <tr style=\"text-align: right;\">\n",
       "      <th></th>\n",
       "      <th>begin</th>\n",
       "      <th>end</th>\n",
       "      <th>label</th>\n",
       "    </tr>\n",
       "    <tr>\n",
       "      <th>id</th>\n",
       "      <th></th>\n",
       "      <th></th>\n",
       "      <th></th>\n",
       "    </tr>\n",
       "  </thead>\n",
       "  <tbody>\n",
       "    <tr>\n",
       "      <th>0</th>\n",
       "      <td>541511</td>\n",
       "      <td>LinkedIn</td>\n",
       "      <td>NAICSCode</td>\n",
       "    </tr>\n",
       "    <tr>\n",
       "      <th>1</th>\n",
       "      <td>ACQ2</td>\n",
       "      <td>LinkedIn</td>\n",
       "      <td>Acquired</td>\n",
       "    </tr>\n",
       "    <tr>\n",
       "      <th>2</th>\n",
       "      <td>LinkedIn</td>\n",
       "      <td>Reid Hoffman</td>\n",
       "      <td>Founded</td>\n",
       "    </tr>\n",
       "    <tr>\n",
       "      <th>3</th>\n",
       "      <td>LinkedIn</td>\n",
       "      <td>Konstantin Guericke</td>\n",
       "      <td>Founded</td>\n",
       "    </tr>\n",
       "    <tr>\n",
       "      <th>4</th>\n",
       "      <td>LinkedIn</td>\n",
       "      <td>SlideShare</td>\n",
       "      <td>Produces</td>\n",
       "    </tr>\n",
       "  </tbody>\n",
       "</table>\n",
       "</div>"
      ],
      "text/plain": [
       "       begin                  end      label\n",
       "id                                          \n",
       "0     541511             LinkedIn  NAICSCode\n",
       "1       ACQ2             LinkedIn   Acquired\n",
       "2   LinkedIn         Reid Hoffman    Founded\n",
       "3   LinkedIn  Konstantin Guericke    Founded\n",
       "4   LinkedIn           SlideShare   Produces"
      ]
     },
     "execution_count": 21,
     "metadata": {},
     "output_type": "execute_result"
    }
   ],
   "source": [
    "ashok_edges = pd.read_csv('ashok_edges.csv', index_col='id')\n",
    "ashok_edges = ashok_edges.sort_values(by='id')\n",
    "print(len(ashok_edges))\n",
    "ashok_edges.head()"
   ]
  },
  {
   "cell_type": "markdown",
   "metadata": {},
   "source": [
    "It seems like the direction of some edges is reversed, e.g. \"LinkedIn-Founded->Reid Hoffman\". Some are in expected order, e.g. \"LinkedIn-Produces->SlideShare\". In the future we can try to correct for this."
   ]
  },
  {
   "cell_type": "code",
   "execution_count": 22,
   "metadata": {},
   "outputs": [
    {
     "name": "stdout",
     "output_type": "stream",
     "text": [
      "276\n"
     ]
    },
    {
     "data": {
      "text/html": [
       "<div>\n",
       "<style scoped>\n",
       "    .dataframe tbody tr th:only-of-type {\n",
       "        vertical-align: middle;\n",
       "    }\n",
       "\n",
       "    .dataframe tbody tr th {\n",
       "        vertical-align: top;\n",
       "    }\n",
       "\n",
       "    .dataframe thead th {\n",
       "        text-align: right;\n",
       "    }\n",
       "</style>\n",
       "<table border=\"1\" class=\"dataframe\">\n",
       "  <thead>\n",
       "    <tr style=\"text-align: right;\">\n",
       "      <th></th>\n",
       "      <th>start</th>\n",
       "      <th>edge_type</th>\n",
       "      <th>end</th>\n",
       "    </tr>\n",
       "  </thead>\n",
       "  <tbody>\n",
       "    <tr>\n",
       "      <th>0</th>\n",
       "      <td>1&amp;1 Drillisch</td>\n",
       "      <td>Produces</td>\n",
       "      <td>Mobile virtual network operator</td>\n",
       "    </tr>\n",
       "    <tr>\n",
       "      <th>1</th>\n",
       "      <td>ADVA Optical Networking</td>\n",
       "      <td>Produces</td>\n",
       "      <td>Carrier Ethernet access products</td>\n",
       "    </tr>\n",
       "    <tr>\n",
       "      <th>2</th>\n",
       "      <td>ADVA Optical Networking</td>\n",
       "      <td>Produces</td>\n",
       "      <td>Network management</td>\n",
       "    </tr>\n",
       "    <tr>\n",
       "      <th>3</th>\n",
       "      <td>ADVA Optical Networking</td>\n",
       "      <td>Produces</td>\n",
       "      <td>Wavelength division multiplexers</td>\n",
       "    </tr>\n",
       "    <tr>\n",
       "      <th>4</th>\n",
       "      <td>ADVA Optical Networking</td>\n",
       "      <td>Produces</td>\n",
       "      <td>software</td>\n",
       "    </tr>\n",
       "  </tbody>\n",
       "</table>\n",
       "</div>"
      ],
      "text/plain": [
       "                     start edge_type                               end\n",
       "0            1&1 Drillisch  Produces   Mobile virtual network operator\n",
       "1  ADVA Optical Networking  Produces  Carrier Ethernet access products\n",
       "2  ADVA Optical Networking  Produces                Network management\n",
       "3  ADVA Optical Networking  Produces  Wavelength division multiplexers\n",
       "4  ADVA Optical Networking  Produces                          software"
      ]
     },
     "execution_count": 22,
     "metadata": {},
     "output_type": "execute_result"
    }
   ],
   "source": [
    "mikes_edges = pd.read_csv('../scraping/edges.tsv', sep='\\t', index_col=False)\n",
    "print(len(mikes_edges))\n",
    "mikes_edges.head()"
   ]
  },
  {
   "cell_type": "code",
   "execution_count": 23,
   "metadata": {},
   "outputs": [
    {
     "data": {
      "text/html": [
       "<div>\n",
       "<style scoped>\n",
       "    .dataframe tbody tr th:only-of-type {\n",
       "        vertical-align: middle;\n",
       "    }\n",
       "\n",
       "    .dataframe tbody tr th {\n",
       "        vertical-align: top;\n",
       "    }\n",
       "\n",
       "    .dataframe thead th {\n",
       "        text-align: right;\n",
       "    }\n",
       "</style>\n",
       "<table border=\"1\" class=\"dataframe\">\n",
       "  <thead>\n",
       "    <tr style=\"text-align: right;\">\n",
       "      <th></th>\n",
       "      <th>FromNode</th>\n",
       "      <th>ToNode</th>\n",
       "      <th>label</th>\n",
       "      <th>origin</th>\n",
       "      <th>originalIndex</th>\n",
       "    </tr>\n",
       "  </thead>\n",
       "  <tbody>\n",
       "    <tr>\n",
       "      <th>0</th>\n",
       "      <td>1&amp;1 Drillisch</td>\n",
       "      <td>Mobile virtual network operator</td>\n",
       "      <td>Produces</td>\n",
       "      <td>mikes_edges</td>\n",
       "      <td>0</td>\n",
       "    </tr>\n",
       "    <tr>\n",
       "      <th>1</th>\n",
       "      <td>ADVA Optical Networking</td>\n",
       "      <td>Carrier Ethernet access products</td>\n",
       "      <td>Produces</td>\n",
       "      <td>mikes_edges</td>\n",
       "      <td>1</td>\n",
       "    </tr>\n",
       "    <tr>\n",
       "      <th>2</th>\n",
       "      <td>ADVA Optical Networking</td>\n",
       "      <td>Network management</td>\n",
       "      <td>Produces</td>\n",
       "      <td>mikes_edges</td>\n",
       "      <td>2</td>\n",
       "    </tr>\n",
       "    <tr>\n",
       "      <th>3</th>\n",
       "      <td>ADVA Optical Networking</td>\n",
       "      <td>Wavelength division multiplexers</td>\n",
       "      <td>Produces</td>\n",
       "      <td>mikes_edges</td>\n",
       "      <td>3</td>\n",
       "    </tr>\n",
       "    <tr>\n",
       "      <th>4</th>\n",
       "      <td>ADVA Optical Networking</td>\n",
       "      <td>software</td>\n",
       "      <td>Produces</td>\n",
       "      <td>mikes_edges</td>\n",
       "      <td>4</td>\n",
       "    </tr>\n",
       "  </tbody>\n",
       "</table>\n",
       "</div>"
      ],
      "text/plain": [
       "                  FromNode                            ToNode     label  \\\n",
       "0            1&1 Drillisch   Mobile virtual network operator  Produces   \n",
       "1  ADVA Optical Networking  Carrier Ethernet access products  Produces   \n",
       "2  ADVA Optical Networking                Network management  Produces   \n",
       "3  ADVA Optical Networking  Wavelength division multiplexers  Produces   \n",
       "4  ADVA Optical Networking                          software  Produces   \n",
       "\n",
       "        origin  originalIndex  \n",
       "0  mikes_edges              0  \n",
       "1  mikes_edges              1  \n",
       "2  mikes_edges              2  \n",
       "3  mikes_edges              3  \n",
       "4  mikes_edges              4  "
      ]
     },
     "execution_count": 23,
     "metadata": {},
     "output_type": "execute_result"
    }
   ],
   "source": [
    "connectivity_df = pd.DataFrame(data={\"FromNode\": mikes_edges.start,\n",
    "                                     \"ToNode\": mikes_edges.end,\n",
    "                                     \"label\": mikes_edges.edge_type,\n",
    "                                     \"origin\": [\"mikes_edges\"]*len(mikes_edges),\n",
    "                                     \"originalIndex\": mikes_edges.index})\n",
    "connectivity_df.head()"
   ]
  },
  {
   "cell_type": "code",
   "execution_count": 24,
   "metadata": {},
   "outputs": [
    {
     "data": {
      "text/html": [
       "<div>\n",
       "<style scoped>\n",
       "    .dataframe tbody tr th:only-of-type {\n",
       "        vertical-align: middle;\n",
       "    }\n",
       "\n",
       "    .dataframe tbody tr th {\n",
       "        vertical-align: top;\n",
       "    }\n",
       "\n",
       "    .dataframe thead th {\n",
       "        text-align: right;\n",
       "    }\n",
       "</style>\n",
       "<table border=\"1\" class=\"dataframe\">\n",
       "  <thead>\n",
       "    <tr style=\"text-align: right;\">\n",
       "      <th></th>\n",
       "      <th>FromNode</th>\n",
       "      <th>ToNode</th>\n",
       "      <th>label</th>\n",
       "      <th>origin</th>\n",
       "      <th>originalIndex</th>\n",
       "    </tr>\n",
       "    <tr>\n",
       "      <th>EdgeID</th>\n",
       "      <th></th>\n",
       "      <th></th>\n",
       "      <th></th>\n",
       "      <th></th>\n",
       "      <th></th>\n",
       "    </tr>\n",
       "  </thead>\n",
       "  <tbody>\n",
       "    <tr>\n",
       "      <th>0</th>\n",
       "      <td>1&amp;1 Drillisch</td>\n",
       "      <td>Mobile virtual network operator</td>\n",
       "      <td>Produces</td>\n",
       "      <td>mikes_edges</td>\n",
       "      <td>0</td>\n",
       "    </tr>\n",
       "    <tr>\n",
       "      <th>1</th>\n",
       "      <td>ADVA Optical Networking</td>\n",
       "      <td>Carrier Ethernet access products</td>\n",
       "      <td>Produces</td>\n",
       "      <td>mikes_edges</td>\n",
       "      <td>1</td>\n",
       "    </tr>\n",
       "    <tr>\n",
       "      <th>2</th>\n",
       "      <td>ADVA Optical Networking</td>\n",
       "      <td>Network management</td>\n",
       "      <td>Produces</td>\n",
       "      <td>mikes_edges</td>\n",
       "      <td>2</td>\n",
       "    </tr>\n",
       "    <tr>\n",
       "      <th>3</th>\n",
       "      <td>ADVA Optical Networking</td>\n",
       "      <td>Wavelength division multiplexers</td>\n",
       "      <td>Produces</td>\n",
       "      <td>mikes_edges</td>\n",
       "      <td>3</td>\n",
       "    </tr>\n",
       "    <tr>\n",
       "      <th>4</th>\n",
       "      <td>ADVA Optical Networking</td>\n",
       "      <td>software</td>\n",
       "      <td>Produces</td>\n",
       "      <td>mikes_edges</td>\n",
       "      <td>4</td>\n",
       "    </tr>\n",
       "    <tr>\n",
       "      <th>301</th>\n",
       "      <td>Robert Hohman, Rich Barton, Tim Besse</td>\n",
       "      <td>Glassdoor</td>\n",
       "      <td>Founded</td>\n",
       "      <td>ashok_edges</td>\n",
       "      <td>41</td>\n",
       "    </tr>\n",
       "    <tr>\n",
       "      <th>302</th>\n",
       "      <td>Robert Hohman, Christian Sutherland-Wong, Ryan...</td>\n",
       "      <td>Glassdoor</td>\n",
       "      <td>Iskeyto</td>\n",
       "      <td>ashok_edges</td>\n",
       "      <td>42</td>\n",
       "    </tr>\n",
       "    <tr>\n",
       "      <th>303</th>\n",
       "      <td>NoNAICS</td>\n",
       "      <td>Connectifier</td>\n",
       "      <td>NAICSCode</td>\n",
       "      <td>ashok_edges</td>\n",
       "      <td>43</td>\n",
       "    </tr>\n",
       "    <tr>\n",
       "      <th>304</th>\n",
       "      <td>John JersinBenjamin McCann</td>\n",
       "      <td>Connectifier</td>\n",
       "      <td>Founded</td>\n",
       "      <td>ashok_edges</td>\n",
       "      <td>44</td>\n",
       "    </tr>\n",
       "    <tr>\n",
       "      <th>305</th>\n",
       "      <td>LinkedIn</td>\n",
       "      <td>Connectifier</td>\n",
       "      <td>Owns</td>\n",
       "      <td>ashok_edges</td>\n",
       "      <td>45</td>\n",
       "    </tr>\n",
       "  </tbody>\n",
       "</table>\n",
       "</div>"
      ],
      "text/plain": [
       "                                                 FromNode  \\\n",
       "EdgeID                                                      \n",
       "0                                           1&1 Drillisch   \n",
       "1                                 ADVA Optical Networking   \n",
       "2                                 ADVA Optical Networking   \n",
       "3                                 ADVA Optical Networking   \n",
       "4                                 ADVA Optical Networking   \n",
       "301                 Robert Hohman, Rich Barton, Tim Besse   \n",
       "302     Robert Hohman, Christian Sutherland-Wong, Ryan...   \n",
       "303                                               NoNAICS   \n",
       "304                            John JersinBenjamin McCann   \n",
       "305                                              LinkedIn   \n",
       "\n",
       "                                  ToNode      label       origin  \\\n",
       "EdgeID                                                             \n",
       "0        Mobile virtual network operator   Produces  mikes_edges   \n",
       "1       Carrier Ethernet access products   Produces  mikes_edges   \n",
       "2                     Network management   Produces  mikes_edges   \n",
       "3       Wavelength division multiplexers   Produces  mikes_edges   \n",
       "4                               software   Produces  mikes_edges   \n",
       "301                            Glassdoor    Founded  ashok_edges   \n",
       "302                            Glassdoor    Iskeyto  ashok_edges   \n",
       "303                         Connectifier  NAICSCode  ashok_edges   \n",
       "304                         Connectifier    Founded  ashok_edges   \n",
       "305                         Connectifier       Owns  ashok_edges   \n",
       "\n",
       "        originalIndex  \n",
       "EdgeID                 \n",
       "0                   0  \n",
       "1                   1  \n",
       "2                   2  \n",
       "3                   3  \n",
       "4                   4  \n",
       "301                41  \n",
       "302                42  \n",
       "303                43  \n",
       "304                44  \n",
       "305                45  "
      ]
     },
     "execution_count": 24,
     "metadata": {},
     "output_type": "execute_result"
    }
   ],
   "source": [
    "connectivity_df = connectivity_df.append(\n",
    "    pd.DataFrame(data={\"FromNode\": ashok_edges.begin,\n",
    "                       \"ToNode\": ashok_edges.end,\n",
    "                       \"label\": ashok_edges.label,\n",
    "                       \"origin\": [\"ashok_edges\"]*len(ashok_edges),\n",
    "                       \"originalIndex\": ashok_edges.index})).reset_index(drop=True)\n",
    "connectivity_df.index.name = 'EdgeID'\n",
    "connectivity_df.head().append(connectivity_df.tail())"
   ]
  },
  {
   "cell_type": "markdown",
   "metadata": {},
   "source": [
    "Before writing out the edge list, I'll filter it so it only refers to entities in NodeLabels.tsv."
   ]
  },
  {
   "cell_type": "code",
   "execution_count": 25,
   "metadata": {},
   "outputs": [
    {
     "name": "stdout",
     "output_type": "stream",
     "text": [
      "306\n",
      "174\n"
     ]
    }
   ],
   "source": [
    "print(len(connectivity_df))\n",
    "connectivity_mask = connectivity_df.apply(\n",
    "    lambda row: (row.FromNode in NodeLabels_df.term.values) and (row.ToNode in NodeLabels_df.term.values),\n",
    "    axis=1)\n",
    "print(np.sum(connectivity_mask))"
   ]
  },
  {
   "cell_type": "code",
   "execution_count": 26,
   "metadata": {},
   "outputs": [],
   "source": [
    "connectivity_df[connectivity_mask].drop(['origin', 'originalIndex', 'label'], axis=1).to_csv('5tables/Connectivity.tsv', sep='\\t')"
   ]
  },
  {
   "cell_type": "markdown",
   "metadata": {},
   "source": [
    "# Edge labels\n",
    "\n",
    "Edge labels are easy to extract from what we've already got."
   ]
  },
  {
   "cell_type": "code",
   "execution_count": 27,
   "metadata": {},
   "outputs": [],
   "source": [
    "connectivity_df[connectivity_mask].drop(['origin', 'originalIndex', 'FromNode', 'ToNode'], axis=1).to_csv('5tables/EdgeLabels.tsv', sep='\\t')"
   ]
  },
  {
   "cell_type": "markdown",
   "metadata": {},
   "source": [
    "# Edge properties\n",
    "\n",
    "Only Ashok has added edge properties so far. They are extracted from the existing graph as follows:\n",
    "\n",
    "    MATCH ()-[e]->() RETURN id(e) as id, e as props\n",
    "    "
   ]
  },
  {
   "cell_type": "code",
   "execution_count": 28,
   "metadata": {},
   "outputs": [],
   "source": [
    "with open(\"ashok_edge_props.json\", \"rb\") as f:\n",
    "    ashok_edge_props = json.loads(f.read())"
   ]
  },
  {
   "cell_type": "code",
   "execution_count": 29,
   "metadata": {},
   "outputs": [
    {
     "name": "stdout",
     "output_type": "stream",
     "text": [
      "30\n"
     ]
    },
    {
     "data": {
      "text/plain": [
       "[{'id': 23,\n",
       "  'props': {'identity': 23,\n",
       "   'start': 29,\n",
       "   'end': 0,\n",
       "   'type': 'Owns',\n",
       "   'properties': {}}},\n",
       " {'id': 22,\n",
       "  'props': {'identity': 22,\n",
       "   'start': 28,\n",
       "   'end': 0,\n",
       "   'type': 'Iskeyto',\n",
       "   'properties': {}}},\n",
       " {'id': 1,\n",
       "  'props': {'identity': 1,\n",
       "   'start': 2,\n",
       "   'end': 0,\n",
       "   'type': 'Acquired',\n",
       "   'properties': {'date': '11 Jan 1811', 'amount': '$23M'}}}]"
      ]
     },
     "execution_count": 29,
     "metadata": {},
     "output_type": "execute_result"
    }
   ],
   "source": [
    "print(len(ashok_edge_props))\n",
    "ashok_edge_props[:3]"
   ]
  },
  {
   "cell_type": "code",
   "execution_count": 30,
   "metadata": {},
   "outputs": [
    {
     "name": "stdout",
     "output_type": "stream",
     "text": [
      "5\n"
     ]
    },
    {
     "data": {
      "text/plain": [
       "[{'id': 1,\n",
       "  'props': {'identity': 1,\n",
       "   'start': 2,\n",
       "   'end': 0,\n",
       "   'type': 'Acquired',\n",
       "   'properties': {'date': '11 Jan 1811', 'amount': '$23M'}}},\n",
       " {'id': 20,\n",
       "  'props': {'identity': 20,\n",
       "   'start': 26,\n",
       "   'end': 0,\n",
       "   'type': 'Acquired',\n",
       "   'properties': {'date': '11-11-1999', 'amount': '$11M'}}},\n",
       " {'id': 2,\n",
       "  'props': {'identity': 2,\n",
       "   'start': 0,\n",
       "   'end': 3,\n",
       "   'type': 'Founded',\n",
       "   'properties': {'Role': 'Chief Scientist'}}}]"
      ]
     },
     "execution_count": 30,
     "metadata": {},
     "output_type": "execute_result"
    }
   ],
   "source": [
    "# Clean up empty props, and add in corresponding EdgeIDs\n",
    "ashok_edge_props = [p for p in ashok_edge_props if p['props']['properties']]\n",
    "print(len(ashok_edge_props))\n",
    "ashok_edge_props[:3]"
   ]
  },
  {
   "cell_type": "code",
   "execution_count": 39,
   "metadata": {},
   "outputs": [
    {
     "data": {
      "text/html": [
       "<div>\n",
       "<style scoped>\n",
       "    .dataframe tbody tr th:only-of-type {\n",
       "        vertical-align: middle;\n",
       "    }\n",
       "\n",
       "    .dataframe tbody tr th {\n",
       "        vertical-align: top;\n",
       "    }\n",
       "\n",
       "    .dataframe thead th {\n",
       "        text-align: right;\n",
       "    }\n",
       "</style>\n",
       "<table border=\"1\" class=\"dataframe\">\n",
       "  <thead>\n",
       "    <tr style=\"text-align: right;\">\n",
       "      <th></th>\n",
       "      <th>EdgeID</th>\n",
       "      <th>Property</th>\n",
       "      <th>Value</th>\n",
       "    </tr>\n",
       "  </thead>\n",
       "  <tbody>\n",
       "    <tr>\n",
       "      <th>0</th>\n",
       "      <td>278</td>\n",
       "      <td>Role</td>\n",
       "      <td>Chief Scientist</td>\n",
       "    </tr>\n",
       "    <tr>\n",
       "      <th>1</th>\n",
       "      <td>279</td>\n",
       "      <td>Role</td>\n",
       "      <td>Sales</td>\n",
       "    </tr>\n",
       "    <tr>\n",
       "      <th>2</th>\n",
       "      <td>279</td>\n",
       "      <td>Age</td>\n",
       "      <td>67Yrs</td>\n",
       "    </tr>\n",
       "    <tr>\n",
       "      <th>3</th>\n",
       "      <td>297</td>\n",
       "      <td>Role</td>\n",
       "      <td>WEB</td>\n",
       "    </tr>\n",
       "    <tr>\n",
       "      <th>4</th>\n",
       "      <td>297</td>\n",
       "      <td>Since</td>\n",
       "      <td>11-11-1999</td>\n",
       "    </tr>\n",
       "  </tbody>\n",
       "</table>\n",
       "</div>"
      ],
      "text/plain": [
       "   EdgeID Property            Value\n",
       "0     278     Role  Chief Scientist\n",
       "1     279     Role            Sales\n",
       "2     279      Age            67Yrs\n",
       "3     297     Role              WEB\n",
       "4     297    Since       11-11-1999"
      ]
     },
     "execution_count": 39,
     "metadata": {},
     "output_type": "execute_result"
    }
   ],
   "source": [
    "edge_ids = []\n",
    "properties = []\n",
    "values = []\n",
    "for e in ashok_edge_props:\n",
    "    props = e['props']['properties']\n",
    "    mask = ((connectivity_df[connectivity_mask].origin == 'ashok_edges') \n",
    "            & (connectivity_df[connectivity_mask].originalIndex == int(e['id'])))\n",
    "    if np.sum(mask) == 0:\n",
    "        # We dropped this from the output edge list, so skip it\n",
    "        continue\n",
    "    edge_id = connectivity_df[connectivity_mask][mask].index.values[0]\n",
    "    edge_ids.extend([edge_id]*len(props))\n",
    "    properties.extend(props.keys())\n",
    "    values.extend(props.values())\n",
    "edge_props = pd.DataFrame(data={\"EdgeID\": edge_ids, \"Property\": properties, \"Value\": values})\n",
    "edge_props.head()"
   ]
  },
  {
   "cell_type": "code",
   "execution_count": 41,
   "metadata": {},
   "outputs": [],
   "source": [
    "edge_props.to_csv('5tables/EdgeProperty.tsv', index=False, sep='\\t')"
   ]
  },
  {
   "cell_type": "markdown",
   "metadata": {},
   "source": [
    "# Node properties\n",
    "\n",
    "This section creates the node properties table."
   ]
  },
  {
   "cell_type": "markdown",
   "metadata": {},
   "source": [
    "Node properties extracted from existing graph with:\n",
    "\n",
    "    MATCH (a) RETURN a as node"
   ]
  },
  {
   "cell_type": "code",
   "execution_count": 90,
   "metadata": {},
   "outputs": [
    {
     "name": "stdout",
     "output_type": "stream",
     "text": [
      "32\n"
     ]
    },
    {
     "data": {
      "text/plain": [
       "{'node': {'identity': 0,\n",
       "  'labels': ['Company'],\n",
       "  'properties': {'Currentstatus': 'Active',\n",
       "   'Founded': 'December 28, 2002; 16 years ago (2002-12-28)Mountain View, California, U.S.',\n",
       "   'Headquarters': 'Sunnyvale, California, U.S.',\n",
       "   'Alexarank': '58 (November 2019[update])[1]',\n",
       "   'Employees': '15,000 (2019)',\n",
       "   'Website': 'www.linkedin.com',\n",
       "   'Launched': 'May 5, 2003; 16 years ago (2003-05-05)',\n",
       "   'Industry': 'Internet',\n",
       "   'Areaserved': 'Worldwide',\n",
       "   'name': 'LinkedIn',\n",
       "   'Typeofbusiness': 'Subsidiary',\n",
       "   'Advertising': 'Google, AdSense',\n",
       "   'Availablein': 'Multilingual (24)'}}}"
      ]
     },
     "execution_count": 90,
     "metadata": {},
     "output_type": "execute_result"
    }
   ],
   "source": [
    "with open(\"ashok_node_properties.json\", \"rb\") as f:\n",
    "    ashok_node_props = json.loads(f.read())\n",
    "print(len(ashok_node_props))\n",
    "ashok_node_props[0]"
   ]
  },
  {
   "cell_type": "code",
   "execution_count": 91,
   "metadata": {},
   "outputs": [
    {
     "name": "stdout",
     "output_type": "stream",
     "text": [
      "(905, 3)\n"
     ]
    },
    {
     "data": {
      "text/html": [
       "<div>\n",
       "<style scoped>\n",
       "    .dataframe tbody tr th:only-of-type {\n",
       "        vertical-align: middle;\n",
       "    }\n",
       "\n",
       "    .dataframe tbody tr th {\n",
       "        vertical-align: top;\n",
       "    }\n",
       "\n",
       "    .dataframe thead th {\n",
       "        text-align: right;\n",
       "    }\n",
       "</style>\n",
       "<table border=\"1\" class=\"dataframe\">\n",
       "  <thead>\n",
       "    <tr style=\"text-align: right;\">\n",
       "      <th></th>\n",
       "      <th>nodes</th>\n",
       "      <th>props</th>\n",
       "      <th>values</th>\n",
       "    </tr>\n",
       "  </thead>\n",
       "  <tbody>\n",
       "    <tr>\n",
       "      <th>0</th>\n",
       "      <td>1&amp;1 Drillisch</td>\n",
       "      <td>Founded</td>\n",
       "      <td>1983</td>\n",
       "    </tr>\n",
       "    <tr>\n",
       "      <th>1</th>\n",
       "      <td>1&amp;1 Drillisch</td>\n",
       "      <td>Headquarters</td>\n",
       "      <td>Germany</td>\n",
       "    </tr>\n",
       "    <tr>\n",
       "      <th>2</th>\n",
       "      <td>1&amp;1 Drillisch</td>\n",
       "      <td>Headquarters</td>\n",
       "      <td>Maintal</td>\n",
       "    </tr>\n",
       "    <tr>\n",
       "      <th>3</th>\n",
       "      <td>1&amp;1 Drillisch</td>\n",
       "      <td>Industry</td>\n",
       "      <td>Telecommunications</td>\n",
       "    </tr>\n",
       "    <tr>\n",
       "      <th>4</th>\n",
       "      <td>1&amp;1 Drillisch</td>\n",
       "      <td>Number of employees</td>\n",
       "      <td>3,142</td>\n",
       "    </tr>\n",
       "  </tbody>\n",
       "</table>\n",
       "</div>"
      ],
      "text/plain": [
       "           nodes                props              values\n",
       "0  1&1 Drillisch              Founded                1983\n",
       "1  1&1 Drillisch         Headquarters             Germany\n",
       "2  1&1 Drillisch         Headquarters             Maintal\n",
       "3  1&1 Drillisch             Industry  Telecommunications\n",
       "4  1&1 Drillisch  Number of employees               3,142"
      ]
     },
     "execution_count": 91,
     "metadata": {},
     "output_type": "execute_result"
    }
   ],
   "source": [
    "mike_node_props = pd.read_csv('../scraping/node_properties.tsv', sep='\\t', index_col=False)\n",
    "print(mike_node_props.shape)\n",
    "mike_node_props.head()"
   ]
  },
  {
   "cell_type": "code",
   "execution_count": 92,
   "metadata": {},
   "outputs": [
    {
     "name": "stdout",
     "output_type": "stream",
     "text": [
      "(50, 3)\n"
     ]
    },
    {
     "data": {
      "text/html": [
       "<div>\n",
       "<style scoped>\n",
       "    .dataframe tbody tr th:only-of-type {\n",
       "        vertical-align: middle;\n",
       "    }\n",
       "\n",
       "    .dataframe tbody tr th {\n",
       "        vertical-align: top;\n",
       "    }\n",
       "\n",
       "    .dataframe thead th {\n",
       "        text-align: right;\n",
       "    }\n",
       "</style>\n",
       "<table border=\"1\" class=\"dataframe\">\n",
       "  <thead>\n",
       "    <tr style=\"text-align: right;\">\n",
       "      <th></th>\n",
       "      <th>NodeID</th>\n",
       "      <th>Property</th>\n",
       "      <th>Value</th>\n",
       "    </tr>\n",
       "  </thead>\n",
       "  <tbody>\n",
       "    <tr>\n",
       "      <th>0</th>\n",
       "      <td>LinkedIn</td>\n",
       "      <td>Currentstatus</td>\n",
       "      <td>Active</td>\n",
       "    </tr>\n",
       "    <tr>\n",
       "      <th>1</th>\n",
       "      <td>LinkedIn</td>\n",
       "      <td>Founded</td>\n",
       "      <td>December 28, 2002; 16 years ago (2002-12-28)Mo...</td>\n",
       "    </tr>\n",
       "    <tr>\n",
       "      <th>2</th>\n",
       "      <td>LinkedIn</td>\n",
       "      <td>Headquarters</td>\n",
       "      <td>Sunnyvale, California, U.S.</td>\n",
       "    </tr>\n",
       "    <tr>\n",
       "      <th>3</th>\n",
       "      <td>LinkedIn</td>\n",
       "      <td>Alexarank</td>\n",
       "      <td>58 (November 2019[update])[1]</td>\n",
       "    </tr>\n",
       "    <tr>\n",
       "      <th>4</th>\n",
       "      <td>LinkedIn</td>\n",
       "      <td>Employees</td>\n",
       "      <td>15,000 (2019)</td>\n",
       "    </tr>\n",
       "  </tbody>\n",
       "</table>\n",
       "</div>"
      ],
      "text/plain": [
       "     NodeID       Property                                              Value\n",
       "0  LinkedIn  Currentstatus                                             Active\n",
       "1  LinkedIn        Founded  December 28, 2002; 16 years ago (2002-12-28)Mo...\n",
       "2  LinkedIn   Headquarters                        Sunnyvale, California, U.S.\n",
       "3  LinkedIn      Alexarank                      58 (November 2019[update])[1]\n",
       "4  LinkedIn      Employees                                      15,000 (2019)"
      ]
     },
     "execution_count": 92,
     "metadata": {},
     "output_type": "execute_result"
    }
   ],
   "source": [
    "nodes = []\n",
    "properties = []\n",
    "values = []\n",
    "for node in ashok_node_props:\n",
    "    nodeID = node['node']['properties']['name']\n",
    "    props = [p for p in node['node']['properties'].keys() if p != 'name']\n",
    "    vals  = [v for p, v in node['node']['properties'].items() if p != 'name']\n",
    "    N = len(props)\n",
    "    nodes.extend([nodeID] * N)\n",
    "    properties.extend(props)\n",
    "    values.extend(vals)\n",
    "node_properties_df = pd.DataFrame(data={\"NodeID\": nodes,\n",
    "                                        \"Property\": properties,\n",
    "                                        \"Value\": values})\n",
    "print(node_properties_df.shape)\n",
    "node_properties_df.head()"
   ]
  },
  {
   "cell_type": "code",
   "execution_count": 93,
   "metadata": {},
   "outputs": [
    {
     "name": "stdout",
     "output_type": "stream",
     "text": [
      "(40, 3)\n"
     ]
    }
   ],
   "source": [
    "node_properties_df = node_properties_df[node_properties_df.NodeID.isin(NodeLabels_df.term.values)]\n",
    "print(node_properties_df.shape)"
   ]
  },
  {
   "cell_type": "code",
   "execution_count": 94,
   "metadata": {},
   "outputs": [
    {
     "name": "stdout",
     "output_type": "stream",
     "text": [
      "% props in NodeLabels.tsv: 73.25966850828729%\n"
     ]
    }
   ],
   "source": [
    "mike_mask = mike_node_props.nodes.isin(NodeLabels_df.term.values)\n",
    "print(\"% props in NodeLabels.tsv: {}%\".format(np.sum(mike_mask) / len(mike_mask) * 100))"
   ]
  },
  {
   "cell_type": "code",
   "execution_count": 95,
   "metadata": {},
   "outputs": [
    {
     "name": "stdout",
     "output_type": "stream",
     "text": [
      "(523, 3)\n"
     ]
    },
    {
     "data": {
      "text/html": [
       "<div>\n",
       "<style scoped>\n",
       "    .dataframe tbody tr th:only-of-type {\n",
       "        vertical-align: middle;\n",
       "    }\n",
       "\n",
       "    .dataframe tbody tr th {\n",
       "        vertical-align: top;\n",
       "    }\n",
       "\n",
       "    .dataframe thead th {\n",
       "        text-align: right;\n",
       "    }\n",
       "</style>\n",
       "<table border=\"1\" class=\"dataframe\">\n",
       "  <thead>\n",
       "    <tr style=\"text-align: right;\">\n",
       "      <th></th>\n",
       "      <th>nodes</th>\n",
       "      <th>props</th>\n",
       "      <th>0</th>\n",
       "    </tr>\n",
       "  </thead>\n",
       "  <tbody>\n",
       "    <tr>\n",
       "      <th>0</th>\n",
       "      <td>1&amp;1 Drillisch</td>\n",
       "      <td>Founded</td>\n",
       "      <td>['1983']</td>\n",
       "    </tr>\n",
       "    <tr>\n",
       "      <th>1</th>\n",
       "      <td>1&amp;1 Drillisch</td>\n",
       "      <td>Headquarters</td>\n",
       "      <td>['Germany', 'Maintal']</td>\n",
       "    </tr>\n",
       "    <tr>\n",
       "      <th>2</th>\n",
       "      <td>1&amp;1 Drillisch</td>\n",
       "      <td>Industry</td>\n",
       "      <td>['Telecommunications']</td>\n",
       "    </tr>\n",
       "    <tr>\n",
       "      <th>3</th>\n",
       "      <td>1&amp;1 Drillisch</td>\n",
       "      <td>Number of employees</td>\n",
       "      <td>['3,142']</td>\n",
       "    </tr>\n",
       "    <tr>\n",
       "      <th>4</th>\n",
       "      <td>1&amp;1 Drillisch</td>\n",
       "      <td>Operating income</td>\n",
       "      <td>['€567.2 million']</td>\n",
       "    </tr>\n",
       "    <tr>\n",
       "      <th>5</th>\n",
       "      <td>1&amp;1 Drillisch</td>\n",
       "      <td>Revenue</td>\n",
       "      <td>['€3.663 billion']</td>\n",
       "    </tr>\n",
       "    <tr>\n",
       "      <th>6</th>\n",
       "      <td>1&amp;1 Drillisch</td>\n",
       "      <td>Total assets</td>\n",
       "      <td>['€5.247 billion']</td>\n",
       "    </tr>\n",
       "    <tr>\n",
       "      <th>7</th>\n",
       "      <td>1&amp;1 Drillisch</td>\n",
       "      <td>Type</td>\n",
       "      <td>['Aktiengesellschaft']</td>\n",
       "    </tr>\n",
       "    <tr>\n",
       "      <th>8</th>\n",
       "      <td>1&amp;1 Drillisch</td>\n",
       "      <td>Website</td>\n",
       "      <td>['www']</td>\n",
       "    </tr>\n",
       "    <tr>\n",
       "      <th>9</th>\n",
       "      <td>2012 LinkedIn hack</td>\n",
       "      <td>Location</td>\n",
       "      <td>['Globally']</td>\n",
       "    </tr>\n",
       "  </tbody>\n",
       "</table>\n",
       "</div>"
      ],
      "text/plain": [
       "                nodes                props                       0\n",
       "0       1&1 Drillisch              Founded                ['1983']\n",
       "1       1&1 Drillisch         Headquarters  ['Germany', 'Maintal']\n",
       "2       1&1 Drillisch             Industry  ['Telecommunications']\n",
       "3       1&1 Drillisch  Number of employees               ['3,142']\n",
       "4       1&1 Drillisch     Operating income      ['€567.2 million']\n",
       "5       1&1 Drillisch              Revenue      ['€3.663 billion']\n",
       "6       1&1 Drillisch         Total assets      ['€5.247 billion']\n",
       "7       1&1 Drillisch                 Type  ['Aktiengesellschaft']\n",
       "8       1&1 Drillisch              Website                 ['www']\n",
       "9  2012 LinkedIn hack             Location            ['Globally']"
      ]
     },
     "execution_count": 95,
     "metadata": {},
     "output_type": "execute_result"
    }
   ],
   "source": [
    "# Collapse values with the same props name into a list\n",
    "grouped_props = mike_node_props.groupby(['nodes', 'props'])\\\n",
    "    .apply(lambda row: str(list(x for x in row['values'].values)))\\\n",
    "    .reset_index()\n",
    "print(grouped_props.shape)\n",
    "grouped_props.head(10)"
   ]
  },
  {
   "cell_type": "code",
   "execution_count": 96,
   "metadata": {},
   "outputs": [
    {
     "name": "stdout",
     "output_type": "stream",
     "text": [
      "40\n",
      "563\n",
      "430\n"
     ]
    },
    {
     "data": {
      "text/html": [
       "<div>\n",
       "<style scoped>\n",
       "    .dataframe tbody tr th:only-of-type {\n",
       "        vertical-align: middle;\n",
       "    }\n",
       "\n",
       "    .dataframe tbody tr th {\n",
       "        vertical-align: top;\n",
       "    }\n",
       "\n",
       "    .dataframe thead th {\n",
       "        text-align: right;\n",
       "    }\n",
       "</style>\n",
       "<table border=\"1\" class=\"dataframe\">\n",
       "  <thead>\n",
       "    <tr style=\"text-align: right;\">\n",
       "      <th></th>\n",
       "      <th>NodeID</th>\n",
       "      <th>Property</th>\n",
       "      <th>Value</th>\n",
       "    </tr>\n",
       "  </thead>\n",
       "  <tbody>\n",
       "    <tr>\n",
       "      <th>511</th>\n",
       "      <td>iPhone</td>\n",
       "      <td>Release date</td>\n",
       "      <td>['11', '11 Pro / 11 Pro Max', '1st gen', '2007...</td>\n",
       "    </tr>\n",
       "    <tr>\n",
       "      <th>512</th>\n",
       "      <td>iPhone</td>\n",
       "      <td>Type</td>\n",
       "      <td>['Smartphone']</td>\n",
       "    </tr>\n",
       "    <tr>\n",
       "      <th>513</th>\n",
       "      <td>iPhone</td>\n",
       "      <td>Website</td>\n",
       "      <td>['apple']</td>\n",
       "    </tr>\n",
       "    <tr>\n",
       "      <th>517</th>\n",
       "      <td>identi.ca</td>\n",
       "      <td>License</td>\n",
       "      <td>['Apache Licence 2.0']</td>\n",
       "    </tr>\n",
       "    <tr>\n",
       "      <th>518</th>\n",
       "      <td>identi.ca</td>\n",
       "      <td>Website</td>\n",
       "      <td>['identi']</td>\n",
       "    </tr>\n",
       "  </tbody>\n",
       "</table>\n",
       "</div>"
      ],
      "text/plain": [
       "        NodeID      Property  \\\n",
       "511     iPhone  Release date   \n",
       "512     iPhone          Type   \n",
       "513     iPhone       Website   \n",
       "517  identi.ca       License   \n",
       "518  identi.ca       Website   \n",
       "\n",
       "                                                 Value  \n",
       "511  ['11', '11 Pro / 11 Pro Max', '1st gen', '2007...  \n",
       "512                                     ['Smartphone']  \n",
       "513                                          ['apple']  \n",
       "517                             ['Apache Licence 2.0']  \n",
       "518                                         ['identi']  "
      ]
     },
     "execution_count": 96,
     "metadata": {},
     "output_type": "execute_result"
    }
   ],
   "source": [
    "# Append to the node properties data frame.\n",
    "# Shows the lengths along the way to illustrate how many properties were kept\n",
    "print(len(node_properties_df))\n",
    "node_properties_df = node_properties_df.append(\n",
    "    pd.DataFrame(data={'NodeID': grouped_props.nodes,\n",
    "                       'Property': grouped_props.props,\n",
    "                       'Value': grouped_props[0]}))\n",
    "print(len(node_properties_df))\n",
    "node_properties_df = node_properties_df[node_properties_df.NodeID.isin(NodeLabels_df.term.values)]\n",
    "print(len(node_properties_df))\n",
    "node_properties_df.tail()"
   ]
  },
  {
   "cell_type": "code",
   "execution_count": null,
   "metadata": {},
   "outputs": [],
   "source": [
    "node_properties_df.to_csv('5tables/NodeProperty.tsv', sep='\\t', index=False)"
   ]
  }
 ],
 "metadata": {
  "kernelspec": {
   "display_name": "Python 3",
   "language": "python",
   "name": "python3"
  },
  "language_info": {
   "codemirror_mode": {
    "name": "ipython",
    "version": 3
   },
   "file_extension": ".py",
   "mimetype": "text/x-python",
   "name": "python",
   "nbconvert_exporter": "python",
   "pygments_lexer": "ipython3",
   "version": "3.6.6"
  }
 },
 "nbformat": 4,
 "nbformat_minor": 2
}
