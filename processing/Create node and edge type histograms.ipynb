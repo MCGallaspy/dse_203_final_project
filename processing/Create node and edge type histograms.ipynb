{
 "cells": [
  {
   "cell_type": "code",
   "execution_count": 9,
   "metadata": {},
   "outputs": [],
   "source": [
    "%matplotlib inline\n",
    "import pandas as pd\n",
    "import seaborn as sns\n",
    "import numpy as np"
   ]
  },
  {
   "cell_type": "code",
   "execution_count": 7,
   "metadata": {},
   "outputs": [
    {
     "data": {
      "text/html": [
       "<div>\n",
       "<style scoped>\n",
       "    .dataframe tbody tr th:only-of-type {\n",
       "        vertical-align: middle;\n",
       "    }\n",
       "\n",
       "    .dataframe tbody tr th {\n",
       "        vertical-align: top;\n",
       "    }\n",
       "\n",
       "    .dataframe thead th {\n",
       "        text-align: right;\n",
       "    }\n",
       "</style>\n",
       "<table border=\"1\" class=\"dataframe\">\n",
       "  <thead>\n",
       "    <tr style=\"text-align: right;\">\n",
       "      <th></th>\n",
       "      <th>term</th>\n",
       "      <th>label</th>\n",
       "    </tr>\n",
       "  </thead>\n",
       "  <tbody>\n",
       "    <tr>\n",
       "      <th>0</th>\n",
       "      <td>Microsoft</td>\n",
       "      <td>ORG</td>\n",
       "    </tr>\n",
       "    <tr>\n",
       "      <th>1</th>\n",
       "      <td>ISBN</td>\n",
       "      <td>ORG</td>\n",
       "    </tr>\n",
       "    <tr>\n",
       "      <th>2</th>\n",
       "      <td>China</td>\n",
       "      <td>GPE</td>\n",
       "    </tr>\n",
       "    <tr>\n",
       "      <th>3</th>\n",
       "      <td>Facebook</td>\n",
       "      <td>ORG</td>\n",
       "    </tr>\n",
       "    <tr>\n",
       "      <th>4</th>\n",
       "      <td>Apple</td>\n",
       "      <td>ORG</td>\n",
       "    </tr>\n",
       "  </tbody>\n",
       "</table>\n",
       "</div>"
      ],
      "text/plain": [
       "        term label\n",
       "0  Microsoft   ORG\n",
       "1       ISBN   ORG\n",
       "2      China   GPE\n",
       "3   Facebook   ORG\n",
       "4      Apple   ORG"
      ]
     },
     "execution_count": 7,
     "metadata": {},
     "output_type": "execute_result"
    }
   ],
   "source": [
    "node_df = pd.read_csv('5tables/NodeLabels.tsv', sep='\\t')\n",
    "node_df.head()"
   ]
  },
  {
   "cell_type": "code",
   "execution_count": 8,
   "metadata": {},
   "outputs": [
    {
     "data": {
      "text/html": [
       "<div>\n",
       "<style scoped>\n",
       "    .dataframe tbody tr th:only-of-type {\n",
       "        vertical-align: middle;\n",
       "    }\n",
       "\n",
       "    .dataframe tbody tr th {\n",
       "        vertical-align: top;\n",
       "    }\n",
       "\n",
       "    .dataframe thead th {\n",
       "        text-align: right;\n",
       "    }\n",
       "</style>\n",
       "<table border=\"1\" class=\"dataframe\">\n",
       "  <thead>\n",
       "    <tr style=\"text-align: right;\">\n",
       "      <th></th>\n",
       "      <th>EdgeID</th>\n",
       "      <th>FromNode</th>\n",
       "      <th>ToNode</th>\n",
       "      <th>EdgeLabel</th>\n",
       "    </tr>\n",
       "  </thead>\n",
       "  <tbody>\n",
       "    <tr>\n",
       "      <th>0</th>\n",
       "      <td>5</td>\n",
       "      <td>adam pisoni</td>\n",
       "      <td>yammer</td>\n",
       "      <td>founded</td>\n",
       "    </tr>\n",
       "    <tr>\n",
       "      <th>1</th>\n",
       "      <td>6</td>\n",
       "      <td>adam somlai-fischer</td>\n",
       "      <td>prezi</td>\n",
       "      <td>founded</td>\n",
       "    </tr>\n",
       "    <tr>\n",
       "      <th>2</th>\n",
       "      <td>7</td>\n",
       "      <td>adeyemi ajao</td>\n",
       "      <td>tuenti</td>\n",
       "      <td>founded</td>\n",
       "    </tr>\n",
       "    <tr>\n",
       "      <th>3</th>\n",
       "      <td>9</td>\n",
       "      <td>allen blue</td>\n",
       "      <td>linkedin</td>\n",
       "      <td>founded</td>\n",
       "    </tr>\n",
       "    <tr>\n",
       "      <th>4</th>\n",
       "      <td>13</td>\n",
       "      <td>apple inc.</td>\n",
       "      <td>apple mail</td>\n",
       "      <td>developed by</td>\n",
       "    </tr>\n",
       "  </tbody>\n",
       "</table>\n",
       "</div>"
      ],
      "text/plain": [
       "   EdgeID             FromNode      ToNode     EdgeLabel\n",
       "0       5          adam pisoni      yammer       founded\n",
       "1       6  adam somlai-fischer       prezi       founded\n",
       "2       7         adeyemi ajao      tuenti       founded\n",
       "3       9           allen blue    linkedin       founded\n",
       "4      13           apple inc.  apple mail  developed by"
      ]
     },
     "execution_count": 8,
     "metadata": {},
     "output_type": "execute_result"
    }
   ],
   "source": [
    "edge_df = pd.read_csv('5tables/Connectivity.tsv', sep='\\t')\n",
    "edge_df.head()"
   ]
  },
  {
   "cell_type": "code",
   "execution_count": 13,
   "metadata": {},
   "outputs": [
    {
     "name": "stdout",
     "output_type": "stream",
     "text": [
      "(42953, 2)\n",
      "3165\n"
     ]
    }
   ],
   "source": [
    "mask = (node_df.term.str.lower().isin(edge_df.FromNode)\n",
    "         | node_df.term.str.lower().isin(edge_df.ToNode))\n",
    "print(node_df.shape)\n",
    "print(np.sum(mask))"
   ]
  },
  {
   "cell_type": "code",
   "execution_count": 63,
   "metadata": {},
   "outputs": [
    {
     "data": {
      "text/plain": [
       "NAICS          2193\n",
       "ORG             472\n",
       "PERSON          218\n",
       "PRODUCT          82\n",
       "GPE              52\n",
       "WORK_OF_ART      36\n",
       "NORP             29\n",
       "LOC              27\n",
       "FAC              25\n",
       "MONEY            12\n",
       "EVENT             5\n",
       "LANGUAGE          5\n",
       "QUANTITY          4\n",
       "LAW               2\n",
       "Name: label, dtype: int64"
      ]
     },
     "execution_count": 63,
     "metadata": {},
     "output_type": "execute_result"
    }
   ],
   "source": [
    "node_types = node_df[mask].label.value_counts()\n",
    "plot_order = node_types.index.values\n",
    "node_types"
   ]
  },
  {
   "cell_type": "code",
   "execution_count": 68,
   "metadata": {},
   "outputs": [
    {
     "data": {
      "image/png": "[encoded data removed]",
      "text/plain": [
       "<matplotlib.figure.Figure at 0x2243c3195c0>"
      ]
     },
     "metadata": {
      "needs_background": "light"
     },
     "output_type": "display_data"
    }
   ],
   "source": [
    "ax = sns.countplot(x='label', data=node_df[mask], order=plot_order)\n",
    "ax.set_title(\"Nodes with >=1 edge\")\n",
    "for tick in ax.get_xticklabels():\n",
    "    tick.set_rotation(-60)\n",
    "    tick.set_fontsize(8)"
   ]
  },
  {
   "cell_type": "code",
   "execution_count": 65,
   "metadata": {},
   "outputs": [
    {
     "data": {
      "text/plain": [
       "ORG            14234\n",
       "PERSON         12475\n",
       "GPE             4254\n",
       "NAICS           2196\n",
       "PRODUCT         1582\n",
       "WORK_OF_ART     1572\n",
       "NORP            1489\n",
       "PERCENT         1034\n",
       "LOC              908\n",
       "MONEY            889\n",
       "FAC              878\n",
       "QUANTITY         442\n",
       "EVENT            431\n",
       "LAW              415\n",
       "LANGUAGE         151\n",
       "Name: label, dtype: int64"
      ]
     },
     "execution_count": 65,
     "metadata": {},
     "output_type": "execute_result"
    }
   ],
   "source": [
    "node_types = node_df.label.value_counts()\n",
    "node_types"
   ]
  },
  {
   "cell_type": "code",
   "execution_count": 67,
   "metadata": {},
   "outputs": [
    {
     "data": {
      "image/png": "[encoded data removed]",
      "text/plain": [
       "<matplotlib.figure.Figure at 0x2243caffc50>"
      ]
     },
     "metadata": {
      "needs_background": "light"
     },
     "output_type": "display_data"
    }
   ],
   "source": [
    "ax = sns.countplot(x='label', data=node_df,  order=plot_order)\n",
    "ax.set_title(\"All nodes\")\n",
    "for tick in ax.get_xticklabels():\n",
    "    tick.set_rotation(-60)\n",
    "    tick.set_fontsize(8)"
   ]
  },
  {
   "cell_type": "code",
   "execution_count": 72,
   "metadata": {},
   "outputs": [
    {
     "data": {
      "text/plain": [
       "naics            5190\n",
       "contains         2132\n",
       "acquired          242\n",
       "invested          178\n",
       "compete           134\n",
       "in_litigation      78\n",
       "is key to          53\n",
       "owns               36\n",
       "developed by       34\n",
       "founded            31\n",
       "authored           10\n",
       "purchase           10\n",
       "naicscode           3\n",
       "Name: EdgeLabel, dtype: int64"
      ]
     },
     "execution_count": 72,
     "metadata": {},
     "output_type": "execute_result"
    }
   ],
   "source": [
    "edge_df.EdgeLabel.value_counts()"
   ]
  },
  {
   "cell_type": "code",
   "execution_count": 73,
   "metadata": {},
   "outputs": [
    {
     "data": {
      "text/plain": [
       "naics            5190\n",
       "contains         2132\n",
       "acquired          242\n",
       "invested          178\n",
       "compete           134\n",
       "in_litigation      78\n",
       "is key to          53\n",
       "owns               36\n",
       "developed by       34\n",
       "founded            31\n",
       "authored           10\n",
       "purchase           10\n",
       "Name: EdgeLabel, dtype: int64"
      ]
     },
     "execution_count": 73,
     "metadata": {},
     "output_type": "execute_result"
    }
   ],
   "source": [
    "mask = edge_df.EdgeLabel != 'naicscode'\n",
    "edge_df[mask].EdgeLabel.value_counts()"
   ]
  },
  {
   "cell_type": "code",
   "execution_count": 82,
   "metadata": {},
   "outputs": [
    {
     "data": {
      "image/png": "[encoded data removed]",
      "text/plain": [
       "<matplotlib.figure.Figure at 0x2243c324cf8>"
      ]
     },
     "metadata": {
      "needs_background": "light"
     },
     "output_type": "display_data"
    }
   ],
   "source": [
    "plot_order = edge_df[mask].EdgeLabel.value_counts().index.values\n",
    "ax = sns.countplot(x='EdgeLabel', data=edge_df[mask], order=plot_order)\n",
    "ax.set_title(\"Edge types\")\n",
    "for tick in ax.get_xticklabels():\n",
    "    tick.set_rotation(-45)\n",
    "    tick.set_fontsize(10)"
   ]
  },
  {
   "cell_type": "code",
   "execution_count": 81,
   "metadata": {},
   "outputs": [
    {
     "data": {
      "image/png": "[encoded data removed]",
      "text/plain": [
       "<matplotlib.figure.Figure at 0x2243cfa2eb8>"
      ]
     },
     "metadata": {
      "needs_background": "light"
     },
     "output_type": "display_data"
    }
   ],
   "source": [
    "plot_order = edge_df[mask].EdgeLabel.value_counts().index.values\n",
    "\n",
    "ax = sns.countplot(x='EdgeLabel',\n",
    "                   data=edge_df[mask & (~edge_df.EdgeLabel.isin(['naics', 'contains']))],\n",
    "                   order=plot_order[2:])\n",
    "ax.set_title(\"Edge types, excluding NAICS-related edges\")\n",
    "for tick in ax.get_xticklabels():\n",
    "    tick.set_rotation(-45)\n",
    "    tick.set_fontsize(10)"
   ]
  }
 ],
 "metadata": {
  "kernelspec": {
   "display_name": "Python 3",
   "language": "python",
   "name": "python3"
  },
  "language_info": {
   "codemirror_mode": {
    "name": "ipython",
    "version": 3
   },
   "file_extension": ".py",
   "mimetype": "text/x-python",
   "name": "python",
   "nbconvert_exporter": "python",
   "pygments_lexer": "ipython3",
   "version": "3.6.6"
  }
 },
 "nbformat": 4,
 "nbformat_minor": 2
}
