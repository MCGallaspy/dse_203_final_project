{
 "cells": [
  {
   "cell_type": "code",
   "execution_count": null,
   "metadata": {
    "collapsed": true
   },
   "outputs": [],
   "source": [
    "import time\n",
    "import csv\n",
    "from selenium import webdriver\n",
    "from selenium.webdriver.common.keys import Keys\n",
    "import re\n",
    "from bs4 import BeautifulSoup\n",
    "import requests\n",
    "import html2text"
   ]
  },
  {
   "cell_type": "code",
   "execution_count": null,
   "metadata": {
    "collapsed": true
   },
   "outputs": [],
   "source": [
    "sel_url = \"https://siccode.com/business/\"\n",
    "wiki_url = \"https://en.wikipedia.org/wiki/\"\n",
    "\n",
    "company_list = [\"LinkedIn\",\"Lynda.com\",\"ZipRecruiter Inc\",\"Indeed.com\",\"SlideShare\",\"Glassdoor\",\"Connectifier\"]\n",
    "\n",
    "company_dict = {}"
   ]
  },
  {
   "cell_type": "code",
   "execution_count": null,
   "metadata": {
    "collapsed": true
   },
   "outputs": [],
   "source": [
    "# Selennium Portion\n",
    "driver = webdriver.Chrome('/Users/kkannapp/Downloads/chromedriver')\n",
    "\n",
    "for company in company_list:\n",
    "    company_dict[company] = {}\n",
    "    driver.get(sel_url+re.sub(r'\\s+|\\.', '-',company))\n",
    "    try:\n",
    "        companyCode = driver.find_element_by_xpath(\"/html/body/div[1]/div/section[2]/div/div/div[2]/div[2]/div/div/a[2]\").text\n",
    "        naics_code = re.findall(r'\\d+', companyCode)\n",
    "        company_dict[company]['naics'] = naics_code[0]\n",
    "    except:\n",
    "        company_dict[company]['naics'] = None\n",
    "    time.sleep(2)"
   ]
  },
  {
   "cell_type": "code",
   "execution_count": null,
   "metadata": {},
   "outputs": [],
   "source": [
    "company_dict"
   ]
  },
  {
   "cell_type": "code",
   "execution_count": null,
   "metadata": {},
   "outputs": [],
   "source": [
    "# Wikipedia Portion\n",
    "h = html2text.HTML2Text()\n",
    "h.ignore_links = True\n",
    "\n",
    "for company in company_list:\n",
    "    url = requests.get(wiki_url+(re.split(r'\\s+',company)[0])).text\n",
    "    soup = BeautifulSoup(url,'lxml')\n",
    "    table = soup.find('table',{'class':'infobox vcard'})\n",
    "    exceptional_row_count = 0\n",
    "    for tr in table.find_all('tr'):\n",
    "        if tr.find('th'):\n",
    "            company_dict[company][h.handle(tr.find('th').text).strip().replace('\\n','')] = h.handle(tr.find('td').text).strip().replace('\\n',' ')\n",
    "        else:\n",
    "            # the first row Logos fall here\n",
    "            exceptional_row_count += 1\n",
    "    paragraph = soup.find(\"div\",{'class':'mw-content-ltr'})\n",
    "    pgtxt = paragraph.find_all('p')[1:3]\n",
    "    for i in range(len(pgtxt)):\n",
    "        company_dict[company]['pg_'+str(i)] = h.handle(str(pgtxt[i])).strip().replace('\\n',' ')"
   ]
  },
  {
   "cell_type": "code",
   "execution_count": null,
   "metadata": {},
   "outputs": [],
   "source": [
    "company_dict"
   ]
  },
  {
   "cell_type": "code",
   "execution_count": null,
   "metadata": {
    "collapsed": true
   },
   "outputs": [],
   "source": [
    "import json\n",
    "with open('result_kk.json', 'w') as fp:\n",
    "    json.dump(company_dict, fp)"
   ]
  }
 ],
 "metadata": {
  "kernelspec": {
   "display_name": "Python 3",
   "language": "python",
   "name": "python3"
  },
  "language_info": {
   "codemirror_mode": {
    "name": "ipython",
    "version": 3
   },
   "file_extension": ".py",
   "mimetype": "text/x-python",
   "name": "python",
   "nbconvert_exporter": "python",
   "pygments_lexer": "ipython3",
   "version": "3.6.8"
  }
 },
 "nbformat": 4,
 "nbformat_minor": 2
}
