{
 "cells": [
  {
   "cell_type": "code",
   "execution_count": 1,
   "metadata": {},
   "outputs": [],
   "source": [
    "%matplotlib inline\n",
    "import json\n",
    "import pandas as pd"
   ]
  },
  {
   "cell_type": "code",
   "execution_count": 2,
   "metadata": {},
   "outputs": [],
   "source": [
    "with open(\"mike/output2.json\", \"r\") as f:\n",
    "    data = json.loads(f.read())"
   ]
  },
  {
   "cell_type": "code",
   "execution_count": 3,
   "metadata": {},
   "outputs": [
    {
     "data": {
      "text/plain": [
       "Type            59\n",
       "Industry        37\n",
       "Founded         49\n",
       "Headquarters    52\n",
       "Key people      24\n",
       "dtype: int64"
      ]
     },
     "execution_count": 3,
     "metadata": {},
     "output_type": "execute_result"
    }
   ],
   "source": [
    "frequencies = dict()\n",
    "for page in data:\n",
    "    for ks, vs in page['table_data']:\n",
    "        for key_ in ks:\n",
    "            key = key_.strip()\n",
    "            try:\n",
    "                frequencies[key] += 1\n",
    "            except KeyError:\n",
    "                frequencies[key] = 1\n",
    "frequencies = pd.Series(data=frequencies)\n",
    "frequencies.head()"
   ]
  },
  {
   "cell_type": "code",
   "execution_count": 4,
   "metadata": {},
   "outputs": [
    {
     "name": "stdout",
     "output_type": "stream",
     "text": [
      "Number of distinct table headers: 1072\n"
     ]
    }
   ],
   "source": [
    "print(\"Number of distinct table headers:\", len(frequencies))"
   ]
  },
  {
   "cell_type": "code",
   "execution_count": 5,
   "metadata": {},
   "outputs": [
    {
     "data": {
      "text/plain": [
       "                         318\n",
       "Website                  112\n",
       "Type                      59\n",
       "Headquarters              52\n",
       "Founded                   49\n",
       "Industry                  37\n",
       "Type of site              32\n",
       "Operating system          31\n",
       "Alexa                     28\n",
       "rank                      28\n",
       "Owner                     28\n",
       "Registration              27\n",
       "Launched                  27\n",
       "Current status            27\n",
       "Available in              25\n",
       "Developer(s)              24\n",
       "Key people                24\n",
       "License                   24\n",
       "Stable release            23\n",
       "Revenue                   21\n",
       "Year                      21\n",
       "Number of employees       20\n",
       "Initial release           18\n",
       "Founder(s)                16\n",
       "Employees                 16\n",
       "Traded as                 15\n",
       "Products                  15\n",
       "Country                   14\n",
       "Commercial                14\n",
       "Area served               13\n",
       "Pop.                      13\n",
       "ISIN                      13\n",
       "Net income                11\n",
       "Historical population     10\n",
       "Created by                10\n",
       "Type of business          10\n",
       "Founder                   10\n",
       "Name                       9\n",
       "Total assets               9\n",
       "Parent                     9\n",
       "Rank                       8\n",
       "Total equity               8\n",
       "Operating income           8\n",
       "Advertising                8\n",
       "Version                    8\n",
       "Available in               8\n",
       "Area served                8\n",
       "Subsidiaries               7\n",
       "Release date               7\n",
       "Date                       7\n",
       "(in Percent)               7\n",
       "Key people                 6\n",
       "Title                      6\n",
       "Original author(s)         6\n",
       "Location                   6\n",
       "Written in                 6\n",
       "/                          6\n",
       "dtype: int64"
      ]
     },
     "execution_count": 5,
     "metadata": {},
     "output_type": "execute_result"
    }
   ],
   "source": [
    "mask = frequencies > 5\n",
    "frequencies[mask].sort_values(ascending=False)"
   ]
  },
  {
   "cell_type": "markdown",
   "metadata": {},
   "source": [
    "# Analysis\n",
    "\n",
    "Above are listed the most frequent table row headers for the pages scraped. By inspecting each one, I am going to categorize them in one of two categories:\n",
    "\n",
    "* Relationship - The key represents a relationship between the parent node. The value(s) correpsonding to the key represent nodes that are in a relationship with the parent node.\n",
    "* Properties - The key represents a property of the parent node.\n",
    "* Unknown - What the key represents is unknown without further analysis or context.\n",
    "\n",
    "The data structures below realize these categories. The \"relationships\" dictionary defines key-value pairs, where they keys are table headers and the value is the type of relationship it defines, and indicates whether the relationship edge is \"incoming\" or \"outgoing\" relative to the parent. For example \"Founder\" and \"Founder(s)\" are distinct table keys that might define the same relationship \"Founded\", with the edge type \"incoming\".\n",
    "\n",
    "For example if \"Amazon\" had the pair \"Founded: (Jeff Bezos, incoming)\", then it means there are two nodes \"Amazon\" and \"Jeff Bezos\" with an Founded-type edge starting at the node \"Jeff Bezos\" and terminating at the node \"Amazon\"."
   ]
  },
  {
   "cell_type": "code",
   "execution_count": 6,
   "metadata": {},
   "outputs": [],
   "source": [
    "relationships = {\n",
    "    'Founder(s)': ('Founded', 'incoming'),\n",
    "    'Owner': ('Owns', 'incoming'),\n",
    "    'Developer(s)': ('Developed by', 'incoming'),\n",
    "    'Key people': ('Is key to', 'incoming'),\n",
    "    'Products': ('Produces', 'outgoing'),\n",
    "    'Created by': ('Created by', 'incoming'),\n",
    "    'Founder': ('Founded', 'incoming'),\n",
    "    'Parent': ('Owns', 'incoming'),\n",
    "    'Subsidiaries': ('Owns', 'outgoing'),\n",
    "    'Original author(s)': ('Authored', 'incoming'),\n",
    "}\n",
    "\n",
    "properties = [\n",
    "    'Founded',\n",
    "    'Website',\n",
    "    'Type',\n",
    "    'Headquarters',\n",
    "    'Industry',\n",
    "    'Operating system',\n",
    "    'Alexa rank',\n",
    "    'Launched',\n",
    "    'Current status',\n",
    "    'Available in',\n",
    "    'License',\n",
    "    'Revenue',\n",
    "    'Number of employees',\n",
    "    'Initial release',\n",
    "    'Employees',\n",
    "    'Type of business',\n",
    "    'Name',\n",
    "    'Total assets',\n",
    "    'Operating income',\n",
    "    'Advertising',\n",
    "    'Version',\n",
    "    'Available in',\n",
    "    'Area served',\n",
    "    'Release date',\n",
    "    'Title',\n",
    "    'Location',\n",
    "    'Written in',\n",
    "]"
   ]
  },
  {
   "cell_type": "code",
   "execution_count": 7,
   "metadata": {},
   "outputs": [
    {
     "name": "stdout",
     "output_type": "stream",
     "text": [
      "Number of entities: 793\n"
     ]
    }
   ],
   "source": [
    "import re\n",
    "\n",
    "internal_wiki_pattern = re.compile(r'.+:.+')\n",
    "\n",
    "table_datas = [(e['title'], e.get('table_data', None))\n",
    "               for e in data\n",
    "               if 'title' in e\n",
    "               and bool(e['title'])\n",
    "               and not internal_wiki_pattern.match(e['title'])]\n",
    "print(\"Number of entities:\", len(table_datas))"
   ]
  },
  {
   "cell_type": "code",
   "execution_count": 14,
   "metadata": {},
   "outputs": [
    {
     "name": "stdout",
     "output_type": "stream",
     "text": [
      "Wall time: 46 ms\n"
     ]
    }
   ],
   "source": [
    "%%time\n",
    "import re\n",
    "import itertools\n",
    "import string\n",
    "\n",
    "output_json = {}\n",
    "\n",
    "invalid_value_pattern = re.compile(r'[\\s{}]+'.format(string.punctuation))\n",
    "\n",
    "def canonical_key(keys_):\n",
    "    '''\n",
    "    Gets the \"canonical key\" from the unstructured list of keys\n",
    "    '''\n",
    "    keys = [k.strip() for k in keys_]\n",
    "    key = ' '.join(keys)\n",
    "    key = re.sub(r'\\s+', ' ', key)\n",
    "    return key\n",
    "\n",
    "def canonical_values(values_):\n",
    "    '''\n",
    "    Clean up list of values by:\n",
    "        * Flattening lists\n",
    "        * Normalizing whitespace\n",
    "        * Removing spurious values, e.g. those that consist of whitespace and punctuation alone\n",
    "        * Strip leading and trailing whitespace\n",
    "    '''\n",
    "    values = []\n",
    "    for v in values_:\n",
    "        if isinstance(v, list):\n",
    "            values.extend(v)\n",
    "        else:\n",
    "            values.append(v)\n",
    "    values = [re.sub(r'\\s+', ' ', v)\n",
    "              for v in values if bool(v) and not invalid_value_pattern.match(v)]\n",
    "    # Strip leading whitespace\n",
    "    values = [re.sub(r'\\s*(.*)', r'\\1', v) for v in values]\n",
    "    # Strip trailing whitespace\n",
    "    values = [re.sub(r'\\s*(.*)', r'\\1', v[-1::-1])[-1::-1] for v in values]\n",
    "    return values\n",
    "\n",
    "for title, table_data in table_datas:\n",
    "    if title not in output_json:\n",
    "        output_json[title] = dict()\n",
    "    for keys_, values_ in table_data:\n",
    "        key = canonical_key(keys_)\n",
    "        if not key:\n",
    "            continue\n",
    "        if key not in relationships and key not in properties:\n",
    "            continue\n",
    "        values = canonical_values(values_)\n",
    "        try:\n",
    "            output_json[title][key].extend(values)\n",
    "        except KeyError:\n",
    "            output_json[title][key] = values\n",
    "        output_json[title][key] = list(set(output_json[title][key]))"
   ]
  },
  {
   "cell_type": "code",
   "execution_count": 15,
   "metadata": {},
   "outputs": [],
   "source": [
    "import json\n",
    "\n",
    "with open(\"cleaned_scraped_data.json\", \"w\") as f:\n",
    "    f.write(json.dumps(output_json, sort_keys=True, indent=4))"
   ]
  }
 ],
 "metadata": {
  "kernelspec": {
   "display_name": "Python 3",
   "language": "python",
   "name": "python3"
  },
  "language_info": {
   "codemirror_mode": {
    "name": "ipython",
    "version": 3
   },
   "file_extension": ".py",
   "mimetype": "text/x-python",
   "name": "python",
   "nbconvert_exporter": "python",
   "pygments_lexer": "ipython3",
   "version": "3.6.6"
  }
 },
 "nbformat": 4,
 "nbformat_minor": 2
}
